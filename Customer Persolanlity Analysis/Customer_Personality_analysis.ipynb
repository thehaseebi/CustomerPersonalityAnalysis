{
 "cells": [
  {
   "cell_type": "markdown",
   "id": "954e29b5-20a6-4592-96c7-324284ecfa26",
   "metadata": {},
   "source": [
    "## Import Libraies"
   ]
  },
  {
   "cell_type": "code",
   "execution_count": 1,
   "id": "e7d92b7b-eaca-4329-b74c-f89630cd6da6",
   "metadata": {},
   "outputs": [],
   "source": [
    "import pandas as pd\n",
    "import numpy as np\n",
    "import matplotlib.pyplot as plt\n",
    "import seaborn as sns\n",
    "import warnings\n",
    "warnings.filterwarnings('ignore')"
   ]
  },
  {
   "cell_type": "markdown",
   "id": "7d513a90-2f87-42da-8700-4ef2b13e184f",
   "metadata": {},
   "source": [
    "## Load Dataset"
   ]
  },
  {
   "cell_type": "code",
   "execution_count": 2,
   "id": "a435e595-ec74-4472-8968-963069d43bbc",
   "metadata": {},
   "outputs": [
    {
     "data": {
      "text/html": [
       "<div>\n",
       "<style scoped>\n",
       "    .dataframe tbody tr th:only-of-type {\n",
       "        vertical-align: middle;\n",
       "    }\n",
       "\n",
       "    .dataframe tbody tr th {\n",
       "        vertical-align: top;\n",
       "    }\n",
       "\n",
       "    .dataframe thead th {\n",
       "        text-align: right;\n",
       "    }\n",
       "</style>\n",
       "<table border=\"1\" class=\"dataframe\">\n",
       "  <thead>\n",
       "    <tr style=\"text-align: right;\">\n",
       "      <th></th>\n",
       "      <th>ID</th>\n",
       "      <th>Year_Birth</th>\n",
       "      <th>Education</th>\n",
       "      <th>Marital_Status</th>\n",
       "      <th>Income</th>\n",
       "      <th>Kidhome</th>\n",
       "      <th>Teenhome</th>\n",
       "      <th>Dt_Customer</th>\n",
       "      <th>Recency</th>\n",
       "      <th>MntWines</th>\n",
       "      <th>...</th>\n",
       "      <th>NumWebVisitsMonth</th>\n",
       "      <th>AcceptedCmp3</th>\n",
       "      <th>AcceptedCmp4</th>\n",
       "      <th>AcceptedCmp5</th>\n",
       "      <th>AcceptedCmp1</th>\n",
       "      <th>AcceptedCmp2</th>\n",
       "      <th>Complain</th>\n",
       "      <th>Z_CostContact</th>\n",
       "      <th>Z_Revenue</th>\n",
       "      <th>Response</th>\n",
       "    </tr>\n",
       "  </thead>\n",
       "  <tbody>\n",
       "    <tr>\n",
       "      <th>0</th>\n",
       "      <td>5524</td>\n",
       "      <td>1957</td>\n",
       "      <td>Graduation</td>\n",
       "      <td>Single</td>\n",
       "      <td>58138.0</td>\n",
       "      <td>0</td>\n",
       "      <td>0</td>\n",
       "      <td>04-09-2012</td>\n",
       "      <td>58</td>\n",
       "      <td>635</td>\n",
       "      <td>...</td>\n",
       "      <td>7</td>\n",
       "      <td>0</td>\n",
       "      <td>0</td>\n",
       "      <td>0</td>\n",
       "      <td>0</td>\n",
       "      <td>0</td>\n",
       "      <td>0</td>\n",
       "      <td>3</td>\n",
       "      <td>11</td>\n",
       "      <td>1</td>\n",
       "    </tr>\n",
       "    <tr>\n",
       "      <th>1</th>\n",
       "      <td>2174</td>\n",
       "      <td>1954</td>\n",
       "      <td>Graduation</td>\n",
       "      <td>Single</td>\n",
       "      <td>46344.0</td>\n",
       "      <td>1</td>\n",
       "      <td>1</td>\n",
       "      <td>08-03-2014</td>\n",
       "      <td>38</td>\n",
       "      <td>11</td>\n",
       "      <td>...</td>\n",
       "      <td>5</td>\n",
       "      <td>0</td>\n",
       "      <td>0</td>\n",
       "      <td>0</td>\n",
       "      <td>0</td>\n",
       "      <td>0</td>\n",
       "      <td>0</td>\n",
       "      <td>3</td>\n",
       "      <td>11</td>\n",
       "      <td>0</td>\n",
       "    </tr>\n",
       "    <tr>\n",
       "      <th>2</th>\n",
       "      <td>4141</td>\n",
       "      <td>1965</td>\n",
       "      <td>Graduation</td>\n",
       "      <td>Together</td>\n",
       "      <td>71613.0</td>\n",
       "      <td>0</td>\n",
       "      <td>0</td>\n",
       "      <td>21-08-2013</td>\n",
       "      <td>26</td>\n",
       "      <td>426</td>\n",
       "      <td>...</td>\n",
       "      <td>4</td>\n",
       "      <td>0</td>\n",
       "      <td>0</td>\n",
       "      <td>0</td>\n",
       "      <td>0</td>\n",
       "      <td>0</td>\n",
       "      <td>0</td>\n",
       "      <td>3</td>\n",
       "      <td>11</td>\n",
       "      <td>0</td>\n",
       "    </tr>\n",
       "    <tr>\n",
       "      <th>3</th>\n",
       "      <td>6182</td>\n",
       "      <td>1984</td>\n",
       "      <td>Graduation</td>\n",
       "      <td>Together</td>\n",
       "      <td>26646.0</td>\n",
       "      <td>1</td>\n",
       "      <td>0</td>\n",
       "      <td>10-02-2014</td>\n",
       "      <td>26</td>\n",
       "      <td>11</td>\n",
       "      <td>...</td>\n",
       "      <td>6</td>\n",
       "      <td>0</td>\n",
       "      <td>0</td>\n",
       "      <td>0</td>\n",
       "      <td>0</td>\n",
       "      <td>0</td>\n",
       "      <td>0</td>\n",
       "      <td>3</td>\n",
       "      <td>11</td>\n",
       "      <td>0</td>\n",
       "    </tr>\n",
       "    <tr>\n",
       "      <th>4</th>\n",
       "      <td>5324</td>\n",
       "      <td>1981</td>\n",
       "      <td>PhD</td>\n",
       "      <td>Married</td>\n",
       "      <td>58293.0</td>\n",
       "      <td>1</td>\n",
       "      <td>0</td>\n",
       "      <td>19-01-2014</td>\n",
       "      <td>94</td>\n",
       "      <td>173</td>\n",
       "      <td>...</td>\n",
       "      <td>5</td>\n",
       "      <td>0</td>\n",
       "      <td>0</td>\n",
       "      <td>0</td>\n",
       "      <td>0</td>\n",
       "      <td>0</td>\n",
       "      <td>0</td>\n",
       "      <td>3</td>\n",
       "      <td>11</td>\n",
       "      <td>0</td>\n",
       "    </tr>\n",
       "    <tr>\n",
       "      <th>...</th>\n",
       "      <td>...</td>\n",
       "      <td>...</td>\n",
       "      <td>...</td>\n",
       "      <td>...</td>\n",
       "      <td>...</td>\n",
       "      <td>...</td>\n",
       "      <td>...</td>\n",
       "      <td>...</td>\n",
       "      <td>...</td>\n",
       "      <td>...</td>\n",
       "      <td>...</td>\n",
       "      <td>...</td>\n",
       "      <td>...</td>\n",
       "      <td>...</td>\n",
       "      <td>...</td>\n",
       "      <td>...</td>\n",
       "      <td>...</td>\n",
       "      <td>...</td>\n",
       "      <td>...</td>\n",
       "      <td>...</td>\n",
       "      <td>...</td>\n",
       "    </tr>\n",
       "    <tr>\n",
       "      <th>2235</th>\n",
       "      <td>10870</td>\n",
       "      <td>1967</td>\n",
       "      <td>Graduation</td>\n",
       "      <td>Married</td>\n",
       "      <td>61223.0</td>\n",
       "      <td>0</td>\n",
       "      <td>1</td>\n",
       "      <td>13-06-2013</td>\n",
       "      <td>46</td>\n",
       "      <td>709</td>\n",
       "      <td>...</td>\n",
       "      <td>5</td>\n",
       "      <td>0</td>\n",
       "      <td>0</td>\n",
       "      <td>0</td>\n",
       "      <td>0</td>\n",
       "      <td>0</td>\n",
       "      <td>0</td>\n",
       "      <td>3</td>\n",
       "      <td>11</td>\n",
       "      <td>0</td>\n",
       "    </tr>\n",
       "    <tr>\n",
       "      <th>2236</th>\n",
       "      <td>4001</td>\n",
       "      <td>1946</td>\n",
       "      <td>PhD</td>\n",
       "      <td>Together</td>\n",
       "      <td>64014.0</td>\n",
       "      <td>2</td>\n",
       "      <td>1</td>\n",
       "      <td>10-06-2014</td>\n",
       "      <td>56</td>\n",
       "      <td>406</td>\n",
       "      <td>...</td>\n",
       "      <td>7</td>\n",
       "      <td>0</td>\n",
       "      <td>0</td>\n",
       "      <td>0</td>\n",
       "      <td>1</td>\n",
       "      <td>0</td>\n",
       "      <td>0</td>\n",
       "      <td>3</td>\n",
       "      <td>11</td>\n",
       "      <td>0</td>\n",
       "    </tr>\n",
       "    <tr>\n",
       "      <th>2237</th>\n",
       "      <td>7270</td>\n",
       "      <td>1981</td>\n",
       "      <td>Graduation</td>\n",
       "      <td>Divorced</td>\n",
       "      <td>56981.0</td>\n",
       "      <td>0</td>\n",
       "      <td>0</td>\n",
       "      <td>25-01-2014</td>\n",
       "      <td>91</td>\n",
       "      <td>908</td>\n",
       "      <td>...</td>\n",
       "      <td>6</td>\n",
       "      <td>0</td>\n",
       "      <td>1</td>\n",
       "      <td>0</td>\n",
       "      <td>0</td>\n",
       "      <td>0</td>\n",
       "      <td>0</td>\n",
       "      <td>3</td>\n",
       "      <td>11</td>\n",
       "      <td>0</td>\n",
       "    </tr>\n",
       "    <tr>\n",
       "      <th>2238</th>\n",
       "      <td>8235</td>\n",
       "      <td>1956</td>\n",
       "      <td>Master</td>\n",
       "      <td>Together</td>\n",
       "      <td>69245.0</td>\n",
       "      <td>0</td>\n",
       "      <td>1</td>\n",
       "      <td>24-01-2014</td>\n",
       "      <td>8</td>\n",
       "      <td>428</td>\n",
       "      <td>...</td>\n",
       "      <td>3</td>\n",
       "      <td>0</td>\n",
       "      <td>0</td>\n",
       "      <td>0</td>\n",
       "      <td>0</td>\n",
       "      <td>0</td>\n",
       "      <td>0</td>\n",
       "      <td>3</td>\n",
       "      <td>11</td>\n",
       "      <td>0</td>\n",
       "    </tr>\n",
       "    <tr>\n",
       "      <th>2239</th>\n",
       "      <td>9405</td>\n",
       "      <td>1954</td>\n",
       "      <td>PhD</td>\n",
       "      <td>Married</td>\n",
       "      <td>52869.0</td>\n",
       "      <td>1</td>\n",
       "      <td>1</td>\n",
       "      <td>15-10-2012</td>\n",
       "      <td>40</td>\n",
       "      <td>84</td>\n",
       "      <td>...</td>\n",
       "      <td>7</td>\n",
       "      <td>0</td>\n",
       "      <td>0</td>\n",
       "      <td>0</td>\n",
       "      <td>0</td>\n",
       "      <td>0</td>\n",
       "      <td>0</td>\n",
       "      <td>3</td>\n",
       "      <td>11</td>\n",
       "      <td>1</td>\n",
       "    </tr>\n",
       "  </tbody>\n",
       "</table>\n",
       "<p>2240 rows × 29 columns</p>\n",
       "</div>"
      ],
      "text/plain": [
       "         ID  Year_Birth   Education Marital_Status   Income  Kidhome  \\\n",
       "0      5524        1957  Graduation         Single  58138.0        0   \n",
       "1      2174        1954  Graduation         Single  46344.0        1   \n",
       "2      4141        1965  Graduation       Together  71613.0        0   \n",
       "3      6182        1984  Graduation       Together  26646.0        1   \n",
       "4      5324        1981         PhD        Married  58293.0        1   \n",
       "...     ...         ...         ...            ...      ...      ...   \n",
       "2235  10870        1967  Graduation        Married  61223.0        0   \n",
       "2236   4001        1946         PhD       Together  64014.0        2   \n",
       "2237   7270        1981  Graduation       Divorced  56981.0        0   \n",
       "2238   8235        1956      Master       Together  69245.0        0   \n",
       "2239   9405        1954         PhD        Married  52869.0        1   \n",
       "\n",
       "      Teenhome Dt_Customer  Recency  MntWines  ...  NumWebVisitsMonth  \\\n",
       "0            0  04-09-2012       58       635  ...                  7   \n",
       "1            1  08-03-2014       38        11  ...                  5   \n",
       "2            0  21-08-2013       26       426  ...                  4   \n",
       "3            0  10-02-2014       26        11  ...                  6   \n",
       "4            0  19-01-2014       94       173  ...                  5   \n",
       "...        ...         ...      ...       ...  ...                ...   \n",
       "2235         1  13-06-2013       46       709  ...                  5   \n",
       "2236         1  10-06-2014       56       406  ...                  7   \n",
       "2237         0  25-01-2014       91       908  ...                  6   \n",
       "2238         1  24-01-2014        8       428  ...                  3   \n",
       "2239         1  15-10-2012       40        84  ...                  7   \n",
       "\n",
       "      AcceptedCmp3  AcceptedCmp4  AcceptedCmp5  AcceptedCmp1  AcceptedCmp2  \\\n",
       "0                0             0             0             0             0   \n",
       "1                0             0             0             0             0   \n",
       "2                0             0             0             0             0   \n",
       "3                0             0             0             0             0   \n",
       "4                0             0             0             0             0   \n",
       "...            ...           ...           ...           ...           ...   \n",
       "2235             0             0             0             0             0   \n",
       "2236             0             0             0             1             0   \n",
       "2237             0             1             0             0             0   \n",
       "2238             0             0             0             0             0   \n",
       "2239             0             0             0             0             0   \n",
       "\n",
       "      Complain  Z_CostContact  Z_Revenue  Response  \n",
       "0            0              3         11         1  \n",
       "1            0              3         11         0  \n",
       "2            0              3         11         0  \n",
       "3            0              3         11         0  \n",
       "4            0              3         11         0  \n",
       "...        ...            ...        ...       ...  \n",
       "2235         0              3         11         0  \n",
       "2236         0              3         11         0  \n",
       "2237         0              3         11         0  \n",
       "2238         0              3         11         0  \n",
       "2239         0              3         11         1  \n",
       "\n",
       "[2240 rows x 29 columns]"
      ]
     },
     "execution_count": 2,
     "metadata": {},
     "output_type": "execute_result"
    }
   ],
   "source": [
    "df = pd.read_csv(r'D:\\Chrome Downloads\\marketing_campaign.csv', sep = \"\\t\")\n",
    "df"
   ]
  },
  {
   "cell_type": "code",
   "execution_count": 3,
   "id": "0998408c-6809-4732-a142-8d65493e6461",
   "metadata": {},
   "outputs": [
    {
     "data": {
      "text/html": [
       "<div>\n",
       "<style scoped>\n",
       "    .dataframe tbody tr th:only-of-type {\n",
       "        vertical-align: middle;\n",
       "    }\n",
       "\n",
       "    .dataframe tbody tr th {\n",
       "        vertical-align: top;\n",
       "    }\n",
       "\n",
       "    .dataframe thead th {\n",
       "        text-align: right;\n",
       "    }\n",
       "</style>\n",
       "<table border=\"1\" class=\"dataframe\">\n",
       "  <thead>\n",
       "    <tr style=\"text-align: right;\">\n",
       "      <th></th>\n",
       "      <th>ID</th>\n",
       "      <th>Year_Birth</th>\n",
       "      <th>Education</th>\n",
       "      <th>Marital_Status</th>\n",
       "      <th>Income</th>\n",
       "      <th>Kidhome</th>\n",
       "      <th>Teenhome</th>\n",
       "      <th>Dt_Customer</th>\n",
       "      <th>Recency</th>\n",
       "      <th>MntWines</th>\n",
       "      <th>...</th>\n",
       "      <th>NumWebVisitsMonth</th>\n",
       "      <th>AcceptedCmp3</th>\n",
       "      <th>AcceptedCmp4</th>\n",
       "      <th>AcceptedCmp5</th>\n",
       "      <th>AcceptedCmp1</th>\n",
       "      <th>AcceptedCmp2</th>\n",
       "      <th>Complain</th>\n",
       "      <th>Z_CostContact</th>\n",
       "      <th>Z_Revenue</th>\n",
       "      <th>Response</th>\n",
       "    </tr>\n",
       "  </thead>\n",
       "  <tbody>\n",
       "    <tr>\n",
       "      <th>2235</th>\n",
       "      <td>10870</td>\n",
       "      <td>1967</td>\n",
       "      <td>Graduation</td>\n",
       "      <td>Married</td>\n",
       "      <td>61223.0</td>\n",
       "      <td>0</td>\n",
       "      <td>1</td>\n",
       "      <td>13-06-2013</td>\n",
       "      <td>46</td>\n",
       "      <td>709</td>\n",
       "      <td>...</td>\n",
       "      <td>5</td>\n",
       "      <td>0</td>\n",
       "      <td>0</td>\n",
       "      <td>0</td>\n",
       "      <td>0</td>\n",
       "      <td>0</td>\n",
       "      <td>0</td>\n",
       "      <td>3</td>\n",
       "      <td>11</td>\n",
       "      <td>0</td>\n",
       "    </tr>\n",
       "    <tr>\n",
       "      <th>2236</th>\n",
       "      <td>4001</td>\n",
       "      <td>1946</td>\n",
       "      <td>PhD</td>\n",
       "      <td>Together</td>\n",
       "      <td>64014.0</td>\n",
       "      <td>2</td>\n",
       "      <td>1</td>\n",
       "      <td>10-06-2014</td>\n",
       "      <td>56</td>\n",
       "      <td>406</td>\n",
       "      <td>...</td>\n",
       "      <td>7</td>\n",
       "      <td>0</td>\n",
       "      <td>0</td>\n",
       "      <td>0</td>\n",
       "      <td>1</td>\n",
       "      <td>0</td>\n",
       "      <td>0</td>\n",
       "      <td>3</td>\n",
       "      <td>11</td>\n",
       "      <td>0</td>\n",
       "    </tr>\n",
       "    <tr>\n",
       "      <th>2237</th>\n",
       "      <td>7270</td>\n",
       "      <td>1981</td>\n",
       "      <td>Graduation</td>\n",
       "      <td>Divorced</td>\n",
       "      <td>56981.0</td>\n",
       "      <td>0</td>\n",
       "      <td>0</td>\n",
       "      <td>25-01-2014</td>\n",
       "      <td>91</td>\n",
       "      <td>908</td>\n",
       "      <td>...</td>\n",
       "      <td>6</td>\n",
       "      <td>0</td>\n",
       "      <td>1</td>\n",
       "      <td>0</td>\n",
       "      <td>0</td>\n",
       "      <td>0</td>\n",
       "      <td>0</td>\n",
       "      <td>3</td>\n",
       "      <td>11</td>\n",
       "      <td>0</td>\n",
       "    </tr>\n",
       "    <tr>\n",
       "      <th>2238</th>\n",
       "      <td>8235</td>\n",
       "      <td>1956</td>\n",
       "      <td>Master</td>\n",
       "      <td>Together</td>\n",
       "      <td>69245.0</td>\n",
       "      <td>0</td>\n",
       "      <td>1</td>\n",
       "      <td>24-01-2014</td>\n",
       "      <td>8</td>\n",
       "      <td>428</td>\n",
       "      <td>...</td>\n",
       "      <td>3</td>\n",
       "      <td>0</td>\n",
       "      <td>0</td>\n",
       "      <td>0</td>\n",
       "      <td>0</td>\n",
       "      <td>0</td>\n",
       "      <td>0</td>\n",
       "      <td>3</td>\n",
       "      <td>11</td>\n",
       "      <td>0</td>\n",
       "    </tr>\n",
       "    <tr>\n",
       "      <th>2239</th>\n",
       "      <td>9405</td>\n",
       "      <td>1954</td>\n",
       "      <td>PhD</td>\n",
       "      <td>Married</td>\n",
       "      <td>52869.0</td>\n",
       "      <td>1</td>\n",
       "      <td>1</td>\n",
       "      <td>15-10-2012</td>\n",
       "      <td>40</td>\n",
       "      <td>84</td>\n",
       "      <td>...</td>\n",
       "      <td>7</td>\n",
       "      <td>0</td>\n",
       "      <td>0</td>\n",
       "      <td>0</td>\n",
       "      <td>0</td>\n",
       "      <td>0</td>\n",
       "      <td>0</td>\n",
       "      <td>3</td>\n",
       "      <td>11</td>\n",
       "      <td>1</td>\n",
       "    </tr>\n",
       "  </tbody>\n",
       "</table>\n",
       "<p>5 rows × 29 columns</p>\n",
       "</div>"
      ],
      "text/plain": [
       "         ID  Year_Birth   Education Marital_Status   Income  Kidhome  \\\n",
       "2235  10870        1967  Graduation        Married  61223.0        0   \n",
       "2236   4001        1946         PhD       Together  64014.0        2   \n",
       "2237   7270        1981  Graduation       Divorced  56981.0        0   \n",
       "2238   8235        1956      Master       Together  69245.0        0   \n",
       "2239   9405        1954         PhD        Married  52869.0        1   \n",
       "\n",
       "      Teenhome Dt_Customer  Recency  MntWines  ...  NumWebVisitsMonth  \\\n",
       "2235         1  13-06-2013       46       709  ...                  5   \n",
       "2236         1  10-06-2014       56       406  ...                  7   \n",
       "2237         0  25-01-2014       91       908  ...                  6   \n",
       "2238         1  24-01-2014        8       428  ...                  3   \n",
       "2239         1  15-10-2012       40        84  ...                  7   \n",
       "\n",
       "      AcceptedCmp3  AcceptedCmp4  AcceptedCmp5  AcceptedCmp1  AcceptedCmp2  \\\n",
       "2235             0             0             0             0             0   \n",
       "2236             0             0             0             1             0   \n",
       "2237             0             1             0             0             0   \n",
       "2238             0             0             0             0             0   \n",
       "2239             0             0             0             0             0   \n",
       "\n",
       "      Complain  Z_CostContact  Z_Revenue  Response  \n",
       "2235         0              3         11         0  \n",
       "2236         0              3         11         0  \n",
       "2237         0              3         11         0  \n",
       "2238         0              3         11         0  \n",
       "2239         0              3         11         1  \n",
       "\n",
       "[5 rows x 29 columns]"
      ]
     },
     "execution_count": 3,
     "metadata": {},
     "output_type": "execute_result"
    }
   ],
   "source": [
    "df.tail()"
   ]
  },
  {
   "cell_type": "code",
   "execution_count": 4,
   "id": "b8b34a9a-2e82-4fff-9561-02ef3cfa0d77",
   "metadata": {},
   "outputs": [
    {
     "data": {
      "text/html": [
       "<div>\n",
       "<style scoped>\n",
       "    .dataframe tbody tr th:only-of-type {\n",
       "        vertical-align: middle;\n",
       "    }\n",
       "\n",
       "    .dataframe tbody tr th {\n",
       "        vertical-align: top;\n",
       "    }\n",
       "\n",
       "    .dataframe thead th {\n",
       "        text-align: right;\n",
       "    }\n",
       "</style>\n",
       "<table border=\"1\" class=\"dataframe\">\n",
       "  <thead>\n",
       "    <tr style=\"text-align: right;\">\n",
       "      <th></th>\n",
       "      <th>Year_Birth</th>\n",
       "      <th>Education</th>\n",
       "      <th>Marital_Status</th>\n",
       "      <th>Income</th>\n",
       "      <th>Kidhome</th>\n",
       "      <th>Teenhome</th>\n",
       "      <th>Dt_Customer</th>\n",
       "      <th>Recency</th>\n",
       "      <th>MntWines</th>\n",
       "      <th>MntFruits</th>\n",
       "      <th>...</th>\n",
       "      <th>NumWebVisitsMonth</th>\n",
       "      <th>AcceptedCmp3</th>\n",
       "      <th>AcceptedCmp4</th>\n",
       "      <th>AcceptedCmp5</th>\n",
       "      <th>AcceptedCmp1</th>\n",
       "      <th>AcceptedCmp2</th>\n",
       "      <th>Complain</th>\n",
       "      <th>Z_CostContact</th>\n",
       "      <th>Z_Revenue</th>\n",
       "      <th>Response</th>\n",
       "    </tr>\n",
       "  </thead>\n",
       "  <tbody>\n",
       "    <tr>\n",
       "      <th>0</th>\n",
       "      <td>1957</td>\n",
       "      <td>Graduation</td>\n",
       "      <td>Single</td>\n",
       "      <td>58138.0</td>\n",
       "      <td>0</td>\n",
       "      <td>0</td>\n",
       "      <td>04-09-2012</td>\n",
       "      <td>58</td>\n",
       "      <td>635</td>\n",
       "      <td>88</td>\n",
       "      <td>...</td>\n",
       "      <td>7</td>\n",
       "      <td>0</td>\n",
       "      <td>0</td>\n",
       "      <td>0</td>\n",
       "      <td>0</td>\n",
       "      <td>0</td>\n",
       "      <td>0</td>\n",
       "      <td>3</td>\n",
       "      <td>11</td>\n",
       "      <td>1</td>\n",
       "    </tr>\n",
       "    <tr>\n",
       "      <th>1</th>\n",
       "      <td>1954</td>\n",
       "      <td>Graduation</td>\n",
       "      <td>Single</td>\n",
       "      <td>46344.0</td>\n",
       "      <td>1</td>\n",
       "      <td>1</td>\n",
       "      <td>08-03-2014</td>\n",
       "      <td>38</td>\n",
       "      <td>11</td>\n",
       "      <td>1</td>\n",
       "      <td>...</td>\n",
       "      <td>5</td>\n",
       "      <td>0</td>\n",
       "      <td>0</td>\n",
       "      <td>0</td>\n",
       "      <td>0</td>\n",
       "      <td>0</td>\n",
       "      <td>0</td>\n",
       "      <td>3</td>\n",
       "      <td>11</td>\n",
       "      <td>0</td>\n",
       "    </tr>\n",
       "    <tr>\n",
       "      <th>2</th>\n",
       "      <td>1965</td>\n",
       "      <td>Graduation</td>\n",
       "      <td>Together</td>\n",
       "      <td>71613.0</td>\n",
       "      <td>0</td>\n",
       "      <td>0</td>\n",
       "      <td>21-08-2013</td>\n",
       "      <td>26</td>\n",
       "      <td>426</td>\n",
       "      <td>49</td>\n",
       "      <td>...</td>\n",
       "      <td>4</td>\n",
       "      <td>0</td>\n",
       "      <td>0</td>\n",
       "      <td>0</td>\n",
       "      <td>0</td>\n",
       "      <td>0</td>\n",
       "      <td>0</td>\n",
       "      <td>3</td>\n",
       "      <td>11</td>\n",
       "      <td>0</td>\n",
       "    </tr>\n",
       "    <tr>\n",
       "      <th>3</th>\n",
       "      <td>1984</td>\n",
       "      <td>Graduation</td>\n",
       "      <td>Together</td>\n",
       "      <td>26646.0</td>\n",
       "      <td>1</td>\n",
       "      <td>0</td>\n",
       "      <td>10-02-2014</td>\n",
       "      <td>26</td>\n",
       "      <td>11</td>\n",
       "      <td>4</td>\n",
       "      <td>...</td>\n",
       "      <td>6</td>\n",
       "      <td>0</td>\n",
       "      <td>0</td>\n",
       "      <td>0</td>\n",
       "      <td>0</td>\n",
       "      <td>0</td>\n",
       "      <td>0</td>\n",
       "      <td>3</td>\n",
       "      <td>11</td>\n",
       "      <td>0</td>\n",
       "    </tr>\n",
       "    <tr>\n",
       "      <th>4</th>\n",
       "      <td>1981</td>\n",
       "      <td>PhD</td>\n",
       "      <td>Married</td>\n",
       "      <td>58293.0</td>\n",
       "      <td>1</td>\n",
       "      <td>0</td>\n",
       "      <td>19-01-2014</td>\n",
       "      <td>94</td>\n",
       "      <td>173</td>\n",
       "      <td>43</td>\n",
       "      <td>...</td>\n",
       "      <td>5</td>\n",
       "      <td>0</td>\n",
       "      <td>0</td>\n",
       "      <td>0</td>\n",
       "      <td>0</td>\n",
       "      <td>0</td>\n",
       "      <td>0</td>\n",
       "      <td>3</td>\n",
       "      <td>11</td>\n",
       "      <td>0</td>\n",
       "    </tr>\n",
       "  </tbody>\n",
       "</table>\n",
       "<p>5 rows × 28 columns</p>\n",
       "</div>"
      ],
      "text/plain": [
       "   Year_Birth   Education Marital_Status   Income  Kidhome  Teenhome  \\\n",
       "0        1957  Graduation         Single  58138.0        0         0   \n",
       "1        1954  Graduation         Single  46344.0        1         1   \n",
       "2        1965  Graduation       Together  71613.0        0         0   \n",
       "3        1984  Graduation       Together  26646.0        1         0   \n",
       "4        1981         PhD        Married  58293.0        1         0   \n",
       "\n",
       "  Dt_Customer  Recency  MntWines  MntFruits  ...  NumWebVisitsMonth  \\\n",
       "0  04-09-2012       58       635         88  ...                  7   \n",
       "1  08-03-2014       38        11          1  ...                  5   \n",
       "2  21-08-2013       26       426         49  ...                  4   \n",
       "3  10-02-2014       26        11          4  ...                  6   \n",
       "4  19-01-2014       94       173         43  ...                  5   \n",
       "\n",
       "   AcceptedCmp3  AcceptedCmp4  AcceptedCmp5  AcceptedCmp1  AcceptedCmp2  \\\n",
       "0             0             0             0             0             0   \n",
       "1             0             0             0             0             0   \n",
       "2             0             0             0             0             0   \n",
       "3             0             0             0             0             0   \n",
       "4             0             0             0             0             0   \n",
       "\n",
       "   Complain  Z_CostContact  Z_Revenue  Response  \n",
       "0         0              3         11         1  \n",
       "1         0              3         11         0  \n",
       "2         0              3         11         0  \n",
       "3         0              3         11         0  \n",
       "4         0              3         11         0  \n",
       "\n",
       "[5 rows x 28 columns]"
      ]
     },
     "execution_count": 4,
     "metadata": {},
     "output_type": "execute_result"
    }
   ],
   "source": [
    "df.drop(columns=['ID'], inplace=True)\n",
    "df.head()"
   ]
  },
  {
   "cell_type": "code",
   "execution_count": 5,
   "id": "964d97c3-782e-4ba6-b657-4bbd51b598d0",
   "metadata": {},
   "outputs": [
    {
     "data": {
      "text/plain": [
       "(2240, 28)"
      ]
     },
     "execution_count": 5,
     "metadata": {},
     "output_type": "execute_result"
    }
   ],
   "source": [
    "df.shape"
   ]
  },
  {
   "cell_type": "code",
   "execution_count": 6,
   "id": "982996b5-916a-41e7-815a-2b7a89edf66e",
   "metadata": {},
   "outputs": [
    {
     "name": "stdout",
     "output_type": "stream",
     "text": [
      "<class 'pandas.core.frame.DataFrame'>\n",
      "RangeIndex: 2240 entries, 0 to 2239\n",
      "Data columns (total 28 columns):\n",
      " #   Column               Non-Null Count  Dtype  \n",
      "---  ------               --------------  -----  \n",
      " 0   Year_Birth           2240 non-null   int64  \n",
      " 1   Education            2240 non-null   object \n",
      " 2   Marital_Status       2240 non-null   object \n",
      " 3   Income               2216 non-null   float64\n",
      " 4   Kidhome              2240 non-null   int64  \n",
      " 5   Teenhome             2240 non-null   int64  \n",
      " 6   Dt_Customer          2240 non-null   object \n",
      " 7   Recency              2240 non-null   int64  \n",
      " 8   MntWines             2240 non-null   int64  \n",
      " 9   MntFruits            2240 non-null   int64  \n",
      " 10  MntMeatProducts      2240 non-null   int64  \n",
      " 11  MntFishProducts      2240 non-null   int64  \n",
      " 12  MntSweetProducts     2240 non-null   int64  \n",
      " 13  MntGoldProds         2240 non-null   int64  \n",
      " 14  NumDealsPurchases    2240 non-null   int64  \n",
      " 15  NumWebPurchases      2240 non-null   int64  \n",
      " 16  NumCatalogPurchases  2240 non-null   int64  \n",
      " 17  NumStorePurchases    2240 non-null   int64  \n",
      " 18  NumWebVisitsMonth    2240 non-null   int64  \n",
      " 19  AcceptedCmp3         2240 non-null   int64  \n",
      " 20  AcceptedCmp4         2240 non-null   int64  \n",
      " 21  AcceptedCmp5         2240 non-null   int64  \n",
      " 22  AcceptedCmp1         2240 non-null   int64  \n",
      " 23  AcceptedCmp2         2240 non-null   int64  \n",
      " 24  Complain             2240 non-null   int64  \n",
      " 25  Z_CostContact        2240 non-null   int64  \n",
      " 26  Z_Revenue            2240 non-null   int64  \n",
      " 27  Response             2240 non-null   int64  \n",
      "dtypes: float64(1), int64(24), object(3)\n",
      "memory usage: 490.1+ KB\n"
     ]
    }
   ],
   "source": [
    "df.info()"
   ]
  },
  {
   "cell_type": "code",
   "execution_count": 7,
   "id": "b4560915-9e50-481b-8c01-679f3a91e54b",
   "metadata": {},
   "outputs": [
    {
     "data": {
      "text/plain": [
       "Year_Birth              0\n",
       "Education               0\n",
       "Marital_Status          0\n",
       "Income                 24\n",
       "Kidhome                 0\n",
       "Teenhome                0\n",
       "Dt_Customer             0\n",
       "Recency                 0\n",
       "MntWines                0\n",
       "MntFruits               0\n",
       "MntMeatProducts         0\n",
       "MntFishProducts         0\n",
       "MntSweetProducts        0\n",
       "MntGoldProds            0\n",
       "NumDealsPurchases       0\n",
       "NumWebPurchases         0\n",
       "NumCatalogPurchases     0\n",
       "NumStorePurchases       0\n",
       "NumWebVisitsMonth       0\n",
       "AcceptedCmp3            0\n",
       "AcceptedCmp4            0\n",
       "AcceptedCmp5            0\n",
       "AcceptedCmp1            0\n",
       "AcceptedCmp2            0\n",
       "Complain                0\n",
       "Z_CostContact           0\n",
       "Z_Revenue               0\n",
       "Response                0\n",
       "dtype: int64"
      ]
     },
     "execution_count": 7,
     "metadata": {},
     "output_type": "execute_result"
    }
   ],
   "source": [
    "df.isna().sum()"
   ]
  },
  {
   "cell_type": "code",
   "execution_count": 8,
   "id": "bae2d035-0e69-45cf-959e-4dfeabdc3def",
   "metadata": {},
   "outputs": [],
   "source": [
    "missing = df.groupby(['Education', 'Marital_Status'])['Income'].transform(\"mean\").round(0)\n",
    "\n",
    "df['Income'].fillna(missing, inplace=True)"
   ]
  },
  {
   "cell_type": "code",
   "execution_count": 9,
   "id": "14641ba1-c110-46f4-a046-4444263bf0f2",
   "metadata": {},
   "outputs": [
    {
     "data": {
      "text/plain": [
       "False"
      ]
     },
     "execution_count": 9,
     "metadata": {},
     "output_type": "execute_result"
    }
   ],
   "source": [
    "df.isna().sum().any()"
   ]
  },
  {
   "cell_type": "code",
   "execution_count": 10,
   "id": "555330cd-0f23-4ac8-8e19-79670cd1c1fc",
   "metadata": {},
   "outputs": [],
   "source": [
    "# calculate age\n",
    "df['Age'] = 2024 - df['Year_Birth']"
   ]
  },
  {
   "cell_type": "code",
   "execution_count": 11,
   "id": "c14f9ad5-a64d-493b-af40-7f168af37d50",
   "metadata": {},
   "outputs": [
    {
     "data": {
      "text/plain": [
       "0    67\n",
       "1    70\n",
       "2    59\n",
       "3    40\n",
       "4    43\n",
       "Name: Age, dtype: int64"
      ]
     },
     "execution_count": 11,
     "metadata": {},
     "output_type": "execute_result"
    }
   ],
   "source": [
    "df['Age'].head()"
   ]
  },
  {
   "cell_type": "code",
   "execution_count": 12,
   "id": "f36bdb7c-4e0c-4790-909d-788275453c6e",
   "metadata": {},
   "outputs": [
    {
     "data": {
      "text/plain": [
       "Education\n",
       "Graduation    1127\n",
       "PhD            486\n",
       "Master         370\n",
       "2n Cycle       203\n",
       "Basic           54\n",
       "Name: count, dtype: int64"
      ]
     },
     "execution_count": 12,
     "metadata": {},
     "output_type": "execute_result"
    }
   ],
   "source": [
    "df.Education.value_counts()"
   ]
  },
  {
   "cell_type": "code",
   "execution_count": 13,
   "id": "f7c4279f-1f89-4572-a289-959878918f31",
   "metadata": {},
   "outputs": [
    {
     "data": {
      "text/plain": [
       "<Axes: xlabel='Education'>"
      ]
     },
     "execution_count": 13,
     "metadata": {},
     "output_type": "execute_result"
    },
    {
     "data": {
      "image/png": "[encoded data removed]",
      "text/plain": [
       "<Figure size 640x480 with 1 Axes>"
      ]
     },
     "metadata": {},
     "output_type": "display_data"
    }
   ],
   "source": [
    "df.Education.value_counts().plot(kind='bar')"
   ]
  },
  {
   "cell_type": "code",
   "execution_count": 14,
   "id": "02da17c0-4d06-42dd-be3d-d78d9fb61b52",
   "metadata": {},
   "outputs": [
    {
     "data": {
      "text/plain": [
       "Marital_Status\n",
       "Married     864\n",
       "Together    580\n",
       "Single      480\n",
       "Divorced    232\n",
       "Widow        77\n",
       "Alone         3\n",
       "Absurd        2\n",
       "YOLO          2\n",
       "Name: count, dtype: int64"
      ]
     },
     "execution_count": 14,
     "metadata": {},
     "output_type": "execute_result"
    }
   ],
   "source": [
    "df.Marital_Status.value_counts()"
   ]
  },
  {
   "cell_type": "code",
   "execution_count": 15,
   "id": "46a0f670-a653-4256-95a4-77700838aed2",
   "metadata": {},
   "outputs": [
    {
     "data": {
      "text/plain": [
       "<Axes: xlabel='Marital_Status'>"
      ]
     },
     "execution_count": 15,
     "metadata": {},
     "output_type": "execute_result"
    },
    {
     "data": {
      "image/png": "[encoded data removed]",
      "text/plain": [
       "<Figure size 640x480 with 1 Axes>"
      ]
     },
     "metadata": {},
     "output_type": "display_data"
    }
   ],
   "source": [
    "df.Marital_Status.value_counts().plot(kind='bar')"
   ]
  },
  {
   "cell_type": "code",
   "execution_count": 16,
   "id": "d69fae45-e61e-412d-9e1b-bb5cd122aae6",
   "metadata": {},
   "outputs": [
    {
     "data": {
      "text/html": [
       "<div>\n",
       "<style scoped>\n",
       "    .dataframe tbody tr th:only-of-type {\n",
       "        vertical-align: middle;\n",
       "    }\n",
       "\n",
       "    .dataframe tbody tr th {\n",
       "        vertical-align: top;\n",
       "    }\n",
       "\n",
       "    .dataframe thead th {\n",
       "        text-align: right;\n",
       "    }\n",
       "</style>\n",
       "<table border=\"1\" class=\"dataframe\">\n",
       "  <thead>\n",
       "    <tr style=\"text-align: right;\">\n",
       "      <th></th>\n",
       "      <th>mean</th>\n",
       "      <th>std</th>\n",
       "    </tr>\n",
       "  </thead>\n",
       "  <tbody>\n",
       "    <tr>\n",
       "      <th>Income</th>\n",
       "      <td>52248.747768</td>\n",
       "      <td>25039.981164</td>\n",
       "    </tr>\n",
       "  </tbody>\n",
       "</table>\n",
       "</div>"
      ],
      "text/plain": [
       "                mean           std\n",
       "Income  52248.747768  25039.981164"
      ]
     },
     "execution_count": 16,
     "metadata": {},
     "output_type": "execute_result"
    }
   ],
   "source": [
    "df.describe()[['Income']].T[['mean', 'std']]"
   ]
  },
  {
   "cell_type": "code",
   "execution_count": 17,
   "id": "6156d9b4-7492-4e43-b837-e51e3b974315",
   "metadata": {},
   "outputs": [
    {
     "data": {
      "text/plain": [
       "Kidhome\n",
       "0    1293\n",
       "1     899\n",
       "2      48\n",
       "Name: count, dtype: int64"
      ]
     },
     "execution_count": 17,
     "metadata": {},
     "output_type": "execute_result"
    }
   ],
   "source": [
    "df.Kidhome.value_counts()"
   ]
  },
  {
   "cell_type": "code",
   "execution_count": 18,
   "id": "c3d7f260-db5e-41f0-953f-364e012b84e6",
   "metadata": {},
   "outputs": [
    {
     "data": {
      "text/plain": [
       "<Axes: ylabel='count'>"
      ]
     },
     "execution_count": 18,
     "metadata": {},
     "output_type": "execute_result"
    },
    {
     "data": {
      "image/png": "[encoded data removed]",
      "text/plain": [
       "<Figure size 640x480 with 1 Axes>"
      ]
     },
     "metadata": {},
     "output_type": "display_data"
    }
   ],
   "source": [
    "df.Kidhome.value_counts().plot(kind='pie', autopct = '%1.1f%%')"
   ]
  },
  {
   "cell_type": "code",
   "execution_count": 19,
   "id": "2e60eb37-c8bd-444d-b2e9-a8453f70b57a",
   "metadata": {},
   "outputs": [
    {
     "data": {
      "text/plain": [
       "1730.0"
      ]
     },
     "execution_count": 19,
     "metadata": {},
     "output_type": "execute_result"
    }
   ],
   "source": [
    "df['Income'].min()"
   ]
  },
  {
   "cell_type": "code",
   "execution_count": 20,
   "id": "a24ea998-62c9-472e-8905-57cb00ca5029",
   "metadata": {},
   "outputs": [
    {
     "data": {
      "text/plain": [
       "144.16666666666666"
      ]
     },
     "execution_count": 20,
     "metadata": {},
     "output_type": "execute_result"
    }
   ],
   "source": [
    "df['Income'].min() / 12"
   ]
  },
  {
   "cell_type": "code",
   "execution_count": 21,
   "id": "61fd7e0b-e0f3-4de7-a02f-3887b2c3e7f2",
   "metadata": {},
   "outputs": [
    {
     "data": {
      "text/plain": [
       "[<matplotlib.lines.Line2D at 0x1ff11248a50>]"
      ]
     },
     "execution_count": 21,
     "metadata": {},
     "output_type": "execute_result"
    },
    {
     "data": {
      "image/png": "[encoded data removed]",
      "text/plain": [
       "<Figure size 640x480 with 1 Axes>"
      ]
     },
     "metadata": {},
     "output_type": "display_data"
    }
   ],
   "source": [
    "plt.plot(df['Income'])"
   ]
  },
  {
   "cell_type": "code",
   "execution_count": 22,
   "id": "9215809c-f075-403d-84bc-704be7f5fcd0",
   "metadata": {},
   "outputs": [
    {
     "data": {
      "text/plain": [
       "75119.9434913524"
      ]
     },
     "execution_count": 22,
     "metadata": {},
     "output_type": "execute_result"
    }
   ],
   "source": [
    "# Calculate the maximum income threshold as three times the standard deviation away from the mean income. \n",
    "# This threshold can be utilized to identify potential outliers or to establish boundaries for certain analyses.\n",
    "\n",
    "maxincome = df['Income'].std() * 3\n",
    "maxincome"
   ]
  },
  {
   "cell_type": "code",
   "execution_count": 23,
   "id": "1574a827-9b80-41e4-a3b5-e835e62fa488",
   "metadata": {},
   "outputs": [
    {
     "data": {
      "text/html": [
       "<div>\n",
       "<style scoped>\n",
       "    .dataframe tbody tr th:only-of-type {\n",
       "        vertical-align: middle;\n",
       "    }\n",
       "\n",
       "    .dataframe tbody tr th {\n",
       "        vertical-align: top;\n",
       "    }\n",
       "\n",
       "    .dataframe thead th {\n",
       "        text-align: right;\n",
       "    }\n",
       "</style>\n",
       "<table border=\"1\" class=\"dataframe\">\n",
       "  <thead>\n",
       "    <tr style=\"text-align: right;\">\n",
       "      <th></th>\n",
       "      <th>Year_Birth</th>\n",
       "      <th>Education</th>\n",
       "      <th>Marital_Status</th>\n",
       "      <th>Income</th>\n",
       "      <th>Kidhome</th>\n",
       "      <th>Teenhome</th>\n",
       "      <th>Dt_Customer</th>\n",
       "      <th>Recency</th>\n",
       "      <th>MntWines</th>\n",
       "      <th>MntFruits</th>\n",
       "      <th>...</th>\n",
       "      <th>AcceptedCmp3</th>\n",
       "      <th>AcceptedCmp4</th>\n",
       "      <th>AcceptedCmp5</th>\n",
       "      <th>AcceptedCmp1</th>\n",
       "      <th>AcceptedCmp2</th>\n",
       "      <th>Complain</th>\n",
       "      <th>Z_CostContact</th>\n",
       "      <th>Z_Revenue</th>\n",
       "      <th>Response</th>\n",
       "      <th>Age</th>\n",
       "    </tr>\n",
       "  </thead>\n",
       "  <tbody>\n",
       "    <tr>\n",
       "      <th>15</th>\n",
       "      <td>1946</td>\n",
       "      <td>PhD</td>\n",
       "      <td>Single</td>\n",
       "      <td>82800.0</td>\n",
       "      <td>0</td>\n",
       "      <td>0</td>\n",
       "      <td>24-11-2012</td>\n",
       "      <td>23</td>\n",
       "      <td>1006</td>\n",
       "      <td>22</td>\n",
       "      <td>...</td>\n",
       "      <td>0</td>\n",
       "      <td>0</td>\n",
       "      <td>1</td>\n",
       "      <td>1</td>\n",
       "      <td>0</td>\n",
       "      <td>0</td>\n",
       "      <td>3</td>\n",
       "      <td>11</td>\n",
       "      <td>1</td>\n",
       "      <td>78</td>\n",
       "    </tr>\n",
       "    <tr>\n",
       "      <th>29</th>\n",
       "      <td>1965</td>\n",
       "      <td>PhD</td>\n",
       "      <td>Married</td>\n",
       "      <td>84618.0</td>\n",
       "      <td>0</td>\n",
       "      <td>0</td>\n",
       "      <td>22-11-2013</td>\n",
       "      <td>96</td>\n",
       "      <td>684</td>\n",
       "      <td>100</td>\n",
       "      <td>...</td>\n",
       "      <td>0</td>\n",
       "      <td>0</td>\n",
       "      <td>1</td>\n",
       "      <td>0</td>\n",
       "      <td>0</td>\n",
       "      <td>0</td>\n",
       "      <td>3</td>\n",
       "      <td>11</td>\n",
       "      <td>0</td>\n",
       "      <td>59</td>\n",
       "    </tr>\n",
       "    <tr>\n",
       "      <th>53</th>\n",
       "      <td>1977</td>\n",
       "      <td>Graduation</td>\n",
       "      <td>Divorced</td>\n",
       "      <td>82582.0</td>\n",
       "      <td>0</td>\n",
       "      <td>0</td>\n",
       "      <td>07-06-2014</td>\n",
       "      <td>54</td>\n",
       "      <td>510</td>\n",
       "      <td>120</td>\n",
       "      <td>...</td>\n",
       "      <td>1</td>\n",
       "      <td>0</td>\n",
       "      <td>0</td>\n",
       "      <td>1</td>\n",
       "      <td>0</td>\n",
       "      <td>0</td>\n",
       "      <td>3</td>\n",
       "      <td>11</td>\n",
       "      <td>1</td>\n",
       "      <td>47</td>\n",
       "    </tr>\n",
       "    <tr>\n",
       "      <th>55</th>\n",
       "      <td>1955</td>\n",
       "      <td>Master</td>\n",
       "      <td>Together</td>\n",
       "      <td>82384.0</td>\n",
       "      <td>0</td>\n",
       "      <td>0</td>\n",
       "      <td>19-11-2012</td>\n",
       "      <td>55</td>\n",
       "      <td>984</td>\n",
       "      <td>51</td>\n",
       "      <td>...</td>\n",
       "      <td>0</td>\n",
       "      <td>0</td>\n",
       "      <td>1</td>\n",
       "      <td>0</td>\n",
       "      <td>0</td>\n",
       "      <td>0</td>\n",
       "      <td>3</td>\n",
       "      <td>11</td>\n",
       "      <td>1</td>\n",
       "      <td>69</td>\n",
       "    </tr>\n",
       "    <tr>\n",
       "      <th>67</th>\n",
       "      <td>1979</td>\n",
       "      <td>2n Cycle</td>\n",
       "      <td>Single</td>\n",
       "      <td>88194.0</td>\n",
       "      <td>0</td>\n",
       "      <td>1</td>\n",
       "      <td>19-03-2014</td>\n",
       "      <td>19</td>\n",
       "      <td>688</td>\n",
       "      <td>14</td>\n",
       "      <td>...</td>\n",
       "      <td>1</td>\n",
       "      <td>0</td>\n",
       "      <td>0</td>\n",
       "      <td>1</td>\n",
       "      <td>0</td>\n",
       "      <td>0</td>\n",
       "      <td>3</td>\n",
       "      <td>11</td>\n",
       "      <td>1</td>\n",
       "      <td>45</td>\n",
       "    </tr>\n",
       "    <tr>\n",
       "      <th>...</th>\n",
       "      <td>...</td>\n",
       "      <td>...</td>\n",
       "      <td>...</td>\n",
       "      <td>...</td>\n",
       "      <td>...</td>\n",
       "      <td>...</td>\n",
       "      <td>...</td>\n",
       "      <td>...</td>\n",
       "      <td>...</td>\n",
       "      <td>...</td>\n",
       "      <td>...</td>\n",
       "      <td>...</td>\n",
       "      <td>...</td>\n",
       "      <td>...</td>\n",
       "      <td>...</td>\n",
       "      <td>...</td>\n",
       "      <td>...</td>\n",
       "      <td>...</td>\n",
       "      <td>...</td>\n",
       "      <td>...</td>\n",
       "      <td>...</td>\n",
       "    </tr>\n",
       "    <tr>\n",
       "      <th>2193</th>\n",
       "      <td>1957</td>\n",
       "      <td>2n Cycle</td>\n",
       "      <td>Married</td>\n",
       "      <td>82347.0</td>\n",
       "      <td>0</td>\n",
       "      <td>0</td>\n",
       "      <td>06-11-2012</td>\n",
       "      <td>38</td>\n",
       "      <td>556</td>\n",
       "      <td>54</td>\n",
       "      <td>...</td>\n",
       "      <td>1</td>\n",
       "      <td>0</td>\n",
       "      <td>0</td>\n",
       "      <td>1</td>\n",
       "      <td>0</td>\n",
       "      <td>0</td>\n",
       "      <td>3</td>\n",
       "      <td>11</td>\n",
       "      <td>1</td>\n",
       "      <td>67</td>\n",
       "    </tr>\n",
       "    <tr>\n",
       "      <th>2211</th>\n",
       "      <td>1981</td>\n",
       "      <td>Graduation</td>\n",
       "      <td>Together</td>\n",
       "      <td>88325.0</td>\n",
       "      <td>0</td>\n",
       "      <td>0</td>\n",
       "      <td>05-02-2014</td>\n",
       "      <td>42</td>\n",
       "      <td>519</td>\n",
       "      <td>71</td>\n",
       "      <td>...</td>\n",
       "      <td>0</td>\n",
       "      <td>0</td>\n",
       "      <td>0</td>\n",
       "      <td>0</td>\n",
       "      <td>0</td>\n",
       "      <td>0</td>\n",
       "      <td>3</td>\n",
       "      <td>11</td>\n",
       "      <td>0</td>\n",
       "      <td>43</td>\n",
       "    </tr>\n",
       "    <tr>\n",
       "      <th>2213</th>\n",
       "      <td>1995</td>\n",
       "      <td>2n Cycle</td>\n",
       "      <td>Single</td>\n",
       "      <td>80617.0</td>\n",
       "      <td>0</td>\n",
       "      <td>0</td>\n",
       "      <td>12-10-2012</td>\n",
       "      <td>42</td>\n",
       "      <td>594</td>\n",
       "      <td>51</td>\n",
       "      <td>...</td>\n",
       "      <td>0</td>\n",
       "      <td>0</td>\n",
       "      <td>0</td>\n",
       "      <td>0</td>\n",
       "      <td>0</td>\n",
       "      <td>0</td>\n",
       "      <td>3</td>\n",
       "      <td>11</td>\n",
       "      <td>0</td>\n",
       "      <td>29</td>\n",
       "    </tr>\n",
       "    <tr>\n",
       "      <th>2217</th>\n",
       "      <td>1948</td>\n",
       "      <td>PhD</td>\n",
       "      <td>Widow</td>\n",
       "      <td>82032.0</td>\n",
       "      <td>0</td>\n",
       "      <td>0</td>\n",
       "      <td>05-04-2014</td>\n",
       "      <td>54</td>\n",
       "      <td>332</td>\n",
       "      <td>194</td>\n",
       "      <td>...</td>\n",
       "      <td>0</td>\n",
       "      <td>0</td>\n",
       "      <td>0</td>\n",
       "      <td>0</td>\n",
       "      <td>0</td>\n",
       "      <td>0</td>\n",
       "      <td>3</td>\n",
       "      <td>11</td>\n",
       "      <td>0</td>\n",
       "      <td>76</td>\n",
       "    </tr>\n",
       "    <tr>\n",
       "      <th>2233</th>\n",
       "      <td>1977</td>\n",
       "      <td>Graduation</td>\n",
       "      <td>Together</td>\n",
       "      <td>666666.0</td>\n",
       "      <td>1</td>\n",
       "      <td>0</td>\n",
       "      <td>02-06-2013</td>\n",
       "      <td>23</td>\n",
       "      <td>9</td>\n",
       "      <td>14</td>\n",
       "      <td>...</td>\n",
       "      <td>0</td>\n",
       "      <td>0</td>\n",
       "      <td>0</td>\n",
       "      <td>0</td>\n",
       "      <td>0</td>\n",
       "      <td>0</td>\n",
       "      <td>3</td>\n",
       "      <td>11</td>\n",
       "      <td>0</td>\n",
       "      <td>47</td>\n",
       "    </tr>\n",
       "  </tbody>\n",
       "</table>\n",
       "<p>215 rows × 29 columns</p>\n",
       "</div>"
      ],
      "text/plain": [
       "      Year_Birth   Education Marital_Status    Income  Kidhome  Teenhome  \\\n",
       "15          1946         PhD         Single   82800.0        0         0   \n",
       "29          1965         PhD        Married   84618.0        0         0   \n",
       "53          1977  Graduation       Divorced   82582.0        0         0   \n",
       "55          1955      Master       Together   82384.0        0         0   \n",
       "67          1979    2n Cycle         Single   88194.0        0         1   \n",
       "...          ...         ...            ...       ...      ...       ...   \n",
       "2193        1957    2n Cycle        Married   82347.0        0         0   \n",
       "2211        1981  Graduation       Together   88325.0        0         0   \n",
       "2213        1995    2n Cycle         Single   80617.0        0         0   \n",
       "2217        1948         PhD          Widow   82032.0        0         0   \n",
       "2233        1977  Graduation       Together  666666.0        1         0   \n",
       "\n",
       "     Dt_Customer  Recency  MntWines  MntFruits  ...  AcceptedCmp3  \\\n",
       "15    24-11-2012       23      1006         22  ...             0   \n",
       "29    22-11-2013       96       684        100  ...             0   \n",
       "53    07-06-2014       54       510        120  ...             1   \n",
       "55    19-11-2012       55       984         51  ...             0   \n",
       "67    19-03-2014       19       688         14  ...             1   \n",
       "...          ...      ...       ...        ...  ...           ...   \n",
       "2193  06-11-2012       38       556         54  ...             1   \n",
       "2211  05-02-2014       42       519         71  ...             0   \n",
       "2213  12-10-2012       42       594         51  ...             0   \n",
       "2217  05-04-2014       54       332        194  ...             0   \n",
       "2233  02-06-2013       23         9         14  ...             0   \n",
       "\n",
       "      AcceptedCmp4  AcceptedCmp5  AcceptedCmp1  AcceptedCmp2  Complain  \\\n",
       "15               0             1             1             0         0   \n",
       "29               0             1             0             0         0   \n",
       "53               0             0             1             0         0   \n",
       "55               0             1             0             0         0   \n",
       "67               0             0             1             0         0   \n",
       "...            ...           ...           ...           ...       ...   \n",
       "2193             0             0             1             0         0   \n",
       "2211             0             0             0             0         0   \n",
       "2213             0             0             0             0         0   \n",
       "2217             0             0             0             0         0   \n",
       "2233             0             0             0             0         0   \n",
       "\n",
       "      Z_CostContact  Z_Revenue  Response  Age  \n",
       "15                3         11         1   78  \n",
       "29                3         11         0   59  \n",
       "53                3         11         1   47  \n",
       "55                3         11         1   69  \n",
       "67                3         11         1   45  \n",
       "...             ...        ...       ...  ...  \n",
       "2193              3         11         1   67  \n",
       "2211              3         11         0   43  \n",
       "2213              3         11         0   29  \n",
       "2217              3         11         0   76  \n",
       "2233              3         11         0   47  \n",
       "\n",
       "[215 rows x 29 columns]"
      ]
     },
     "execution_count": 23,
     "metadata": {},
     "output_type": "execute_result"
    }
   ],
   "source": [
    "# Filter the DataFrame to select rows where the 'Income' values exceed the maximum income threshold \n",
    "df[df['Income'] > maxincome + 5000]"
   ]
  },
  {
   "cell_type": "code",
   "execution_count": 24,
   "id": "9fb45180-5ac0-4d7b-84e8-4960035120ff",
   "metadata": {},
   "outputs": [
    {
     "data": {
      "text/html": [
       "<div>\n",
       "<style scoped>\n",
       "    .dataframe tbody tr th:only-of-type {\n",
       "        vertical-align: middle;\n",
       "    }\n",
       "\n",
       "    .dataframe tbody tr th {\n",
       "        vertical-align: top;\n",
       "    }\n",
       "\n",
       "    .dataframe thead th {\n",
       "        text-align: right;\n",
       "    }\n",
       "</style>\n",
       "<table border=\"1\" class=\"dataframe\">\n",
       "  <thead>\n",
       "    <tr style=\"text-align: right;\">\n",
       "      <th></th>\n",
       "      <th>Year_Birth</th>\n",
       "      <th>Education</th>\n",
       "      <th>Marital_Status</th>\n",
       "      <th>Income</th>\n",
       "      <th>Kidhome</th>\n",
       "      <th>Teenhome</th>\n",
       "      <th>Dt_Customer</th>\n",
       "      <th>Recency</th>\n",
       "      <th>MntWines</th>\n",
       "      <th>MntFruits</th>\n",
       "      <th>...</th>\n",
       "      <th>AcceptedCmp3</th>\n",
       "      <th>AcceptedCmp4</th>\n",
       "      <th>AcceptedCmp5</th>\n",
       "      <th>AcceptedCmp1</th>\n",
       "      <th>AcceptedCmp2</th>\n",
       "      <th>Complain</th>\n",
       "      <th>Z_CostContact</th>\n",
       "      <th>Z_Revenue</th>\n",
       "      <th>Response</th>\n",
       "      <th>Age</th>\n",
       "    </tr>\n",
       "  </thead>\n",
       "  <tbody>\n",
       "    <tr>\n",
       "      <th>2233</th>\n",
       "      <td>1977</td>\n",
       "      <td>Graduation</td>\n",
       "      <td>Together</td>\n",
       "      <td>666666.0</td>\n",
       "      <td>1</td>\n",
       "      <td>0</td>\n",
       "      <td>02-06-2013</td>\n",
       "      <td>23</td>\n",
       "      <td>9</td>\n",
       "      <td>14</td>\n",
       "      <td>...</td>\n",
       "      <td>0</td>\n",
       "      <td>0</td>\n",
       "      <td>0</td>\n",
       "      <td>0</td>\n",
       "      <td>0</td>\n",
       "      <td>0</td>\n",
       "      <td>3</td>\n",
       "      <td>11</td>\n",
       "      <td>0</td>\n",
       "      <td>47</td>\n",
       "    </tr>\n",
       "  </tbody>\n",
       "</table>\n",
       "<p>1 rows × 29 columns</p>\n",
       "</div>"
      ],
      "text/plain": [
       "      Year_Birth   Education Marital_Status    Income  Kidhome  Teenhome  \\\n",
       "2233        1977  Graduation       Together  666666.0        1         0   \n",
       "\n",
       "     Dt_Customer  Recency  MntWines  MntFruits  ...  AcceptedCmp3  \\\n",
       "2233  02-06-2013       23         9         14  ...             0   \n",
       "\n",
       "      AcceptedCmp4  AcceptedCmp5  AcceptedCmp1  AcceptedCmp2  Complain  \\\n",
       "2233             0             0             0             0         0   \n",
       "\n",
       "      Z_CostContact  Z_Revenue  Response  Age  \n",
       "2233              3         11         0   47  \n",
       "\n",
       "[1 rows x 29 columns]"
      ]
     },
     "execution_count": 24,
     "metadata": {},
     "output_type": "execute_result"
    }
   ],
   "source": [
    "df[df['Income'] == df['Income'].max()]"
   ]
  },
  {
   "cell_type": "code",
   "execution_count": 25,
   "id": "4b0b4e73-9189-4282-bb12-04ad8c4ad9d8",
   "metadata": {},
   "outputs": [
    {
     "data": {
      "text/plain": [
       "666666.0"
      ]
     },
     "execution_count": 25,
     "metadata": {},
     "output_type": "execute_result"
    }
   ],
   "source": [
    "df['Income'].max()"
   ]
  },
  {
   "cell_type": "code",
   "execution_count": 26,
   "id": "6ef682db-31a9-4c16-9b85-70c674c8b92c",
   "metadata": {},
   "outputs": [
    {
     "data": {
      "text/plain": [
       "Teenhome\n",
       "0    1158\n",
       "1    1030\n",
       "2      52\n",
       "Name: count, dtype: int64"
      ]
     },
     "execution_count": 26,
     "metadata": {},
     "output_type": "execute_result"
    }
   ],
   "source": [
    "df['Teenhome'].value_counts()\n"
   ]
  },
  {
   "cell_type": "code",
   "execution_count": 27,
   "id": "1d95fd41-3c93-4e16-b177-6ddcda05e0af",
   "metadata": {},
   "outputs": [
    {
     "data": {
      "text/plain": [
       "0      2012-09-04\n",
       "1      2014-03-08\n",
       "2      2013-08-21\n",
       "3      2014-02-10\n",
       "4      2014-01-19\n",
       "          ...    \n",
       "2235   2013-06-13\n",
       "2236   2014-06-10\n",
       "2237   2014-01-25\n",
       "2238   2014-01-24\n",
       "2239   2012-10-15\n",
       "Name: Dt_Customer, Length: 2240, dtype: datetime64[ns]"
      ]
     },
     "execution_count": 27,
     "metadata": {},
     "output_type": "execute_result"
    }
   ],
   "source": [
    "df.Dt_Customer = pd.to_datetime(df.Dt_Customer, format = \"%d-%m-%Y\")\n",
    "df.Dt_Customer"
   ]
  },
  {
   "cell_type": "code",
   "execution_count": 28,
   "id": "1a372df2-1ff4-40ab-aa65-1b9856dd530b",
   "metadata": {},
   "outputs": [],
   "source": [
    "df[\"join_year\"] = df.Dt_Customer.dt.year"
   ]
  },
  {
   "cell_type": "code",
   "execution_count": 29,
   "id": "705eb61f-c7a3-4fd7-9d1d-c17d32807534",
   "metadata": {},
   "outputs": [
    {
     "data": {
      "text/plain": [
       "0       2012\n",
       "1       2014\n",
       "2       2013\n",
       "3       2014\n",
       "4       2014\n",
       "        ... \n",
       "2235    2013\n",
       "2236    2014\n",
       "2237    2014\n",
       "2238    2014\n",
       "2239    2012\n",
       "Name: join_year, Length: 2240, dtype: int32"
      ]
     },
     "execution_count": 29,
     "metadata": {},
     "output_type": "execute_result"
    }
   ],
   "source": [
    "df[\"join_year\"]"
   ]
  },
  {
   "cell_type": "code",
   "execution_count": 30,
   "id": "42a8f620-882b-4d48-bb12-471c5086774d",
   "metadata": {},
   "outputs": [
    {
     "data": {
      "text/plain": [
       "0       12\n",
       "1       10\n",
       "2       11\n",
       "3       10\n",
       "4       10\n",
       "        ..\n",
       "2235    11\n",
       "2236    10\n",
       "2237    10\n",
       "2238    10\n",
       "2239    12\n",
       "Name: number_joined_years, Length: 2240, dtype: int32"
      ]
     },
     "execution_count": 30,
     "metadata": {},
     "output_type": "execute_result"
    }
   ],
   "source": [
    "df['number_joined_years'] = 2024 - df['join_year']\n",
    "df['number_joined_years']"
   ]
  },
  {
   "cell_type": "code",
   "execution_count": 31,
   "id": "785aedc4-eff0-46a2-ad13-d197c723975d",
   "metadata": {},
   "outputs": [
    {
     "data": {
      "text/plain": [
       "['MntFruits',\n",
       " 'MntMeatProducts',\n",
       " 'MntFishProducts',\n",
       " 'MntSweetProducts',\n",
       " 'MntGoldProds',\n",
       " 'NumDealsPurchases']"
      ]
     },
     "execution_count": 31,
     "metadata": {},
     "output_type": "execute_result"
    }
   ],
   "source": [
    "amounts = df.columns.tolist()[9:15]\n",
    "amounts"
   ]
  },
  {
   "cell_type": "code",
   "execution_count": 32,
   "id": "d634d90c-bec4-4e4f-9048-f482e22ab01b",
   "metadata": {},
   "outputs": [
    {
     "data": {
      "text/html": [
       "<div>\n",
       "<style scoped>\n",
       "    .dataframe tbody tr th:only-of-type {\n",
       "        vertical-align: middle;\n",
       "    }\n",
       "\n",
       "    .dataframe tbody tr th {\n",
       "        vertical-align: top;\n",
       "    }\n",
       "\n",
       "    .dataframe thead th {\n",
       "        text-align: right;\n",
       "    }\n",
       "</style>\n",
       "<table border=\"1\" class=\"dataframe\">\n",
       "  <thead>\n",
       "    <tr style=\"text-align: right;\">\n",
       "      <th></th>\n",
       "      <th>MntFruits</th>\n",
       "      <th>MntMeatProducts</th>\n",
       "      <th>MntFishProducts</th>\n",
       "      <th>MntSweetProducts</th>\n",
       "      <th>MntGoldProds</th>\n",
       "      <th>NumDealsPurchases</th>\n",
       "    </tr>\n",
       "  </thead>\n",
       "  <tbody>\n",
       "    <tr>\n",
       "      <th>count</th>\n",
       "      <td>2240.000000</td>\n",
       "      <td>2240.000000</td>\n",
       "      <td>2240.000000</td>\n",
       "      <td>2240.000000</td>\n",
       "      <td>2240.000000</td>\n",
       "      <td>2240.000000</td>\n",
       "    </tr>\n",
       "    <tr>\n",
       "      <th>mean</th>\n",
       "      <td>26.302232</td>\n",
       "      <td>166.950000</td>\n",
       "      <td>37.525446</td>\n",
       "      <td>27.062946</td>\n",
       "      <td>44.021875</td>\n",
       "      <td>2.325000</td>\n",
       "    </tr>\n",
       "    <tr>\n",
       "      <th>min</th>\n",
       "      <td>0.000000</td>\n",
       "      <td>0.000000</td>\n",
       "      <td>0.000000</td>\n",
       "      <td>0.000000</td>\n",
       "      <td>0.000000</td>\n",
       "      <td>0.000000</td>\n",
       "    </tr>\n",
       "    <tr>\n",
       "      <th>25%</th>\n",
       "      <td>1.000000</td>\n",
       "      <td>16.000000</td>\n",
       "      <td>3.000000</td>\n",
       "      <td>1.000000</td>\n",
       "      <td>9.000000</td>\n",
       "      <td>1.000000</td>\n",
       "    </tr>\n",
       "    <tr>\n",
       "      <th>50%</th>\n",
       "      <td>8.000000</td>\n",
       "      <td>67.000000</td>\n",
       "      <td>12.000000</td>\n",
       "      <td>8.000000</td>\n",
       "      <td>24.000000</td>\n",
       "      <td>2.000000</td>\n",
       "    </tr>\n",
       "    <tr>\n",
       "      <th>75%</th>\n",
       "      <td>33.000000</td>\n",
       "      <td>232.000000</td>\n",
       "      <td>50.000000</td>\n",
       "      <td>33.000000</td>\n",
       "      <td>56.000000</td>\n",
       "      <td>3.000000</td>\n",
       "    </tr>\n",
       "    <tr>\n",
       "      <th>max</th>\n",
       "      <td>199.000000</td>\n",
       "      <td>1725.000000</td>\n",
       "      <td>259.000000</td>\n",
       "      <td>263.000000</td>\n",
       "      <td>362.000000</td>\n",
       "      <td>15.000000</td>\n",
       "    </tr>\n",
       "    <tr>\n",
       "      <th>std</th>\n",
       "      <td>39.773434</td>\n",
       "      <td>225.715373</td>\n",
       "      <td>54.628979</td>\n",
       "      <td>41.280498</td>\n",
       "      <td>52.167439</td>\n",
       "      <td>1.932238</td>\n",
       "    </tr>\n",
       "  </tbody>\n",
       "</table>\n",
       "</div>"
      ],
      "text/plain": [
       "         MntFruits  MntMeatProducts  MntFishProducts  MntSweetProducts  \\\n",
       "count  2240.000000      2240.000000      2240.000000       2240.000000   \n",
       "mean     26.302232       166.950000        37.525446         27.062946   \n",
       "min       0.000000         0.000000         0.000000          0.000000   \n",
       "25%       1.000000        16.000000         3.000000          1.000000   \n",
       "50%       8.000000        67.000000        12.000000          8.000000   \n",
       "75%      33.000000       232.000000        50.000000         33.000000   \n",
       "max     199.000000      1725.000000       259.000000        263.000000   \n",
       "std      39.773434       225.715373        54.628979         41.280498   \n",
       "\n",
       "       MntGoldProds  NumDealsPurchases  \n",
       "count   2240.000000        2240.000000  \n",
       "mean      44.021875           2.325000  \n",
       "min        0.000000           0.000000  \n",
       "25%        9.000000           1.000000  \n",
       "50%       24.000000           2.000000  \n",
       "75%       56.000000           3.000000  \n",
       "max      362.000000          15.000000  \n",
       "std       52.167439           1.932238  "
      ]
     },
     "execution_count": 32,
     "metadata": {},
     "output_type": "execute_result"
    }
   ],
   "source": [
    "df.describe()[amounts]"
   ]
  },
  {
   "cell_type": "code",
   "execution_count": 33,
   "id": "4eb8a883-307f-46ff-a378-b877fc05aba8",
   "metadata": {},
   "outputs": [
    {
     "data": {
      "text/plain": [
       "MntFruits             58917\n",
       "MntMeatProducts      373968\n",
       "MntFishProducts       84057\n",
       "MntSweetProducts      60621\n",
       "MntGoldProds          98609\n",
       "NumDealsPurchases      5208\n",
       "dtype: int64"
      ]
     },
     "execution_count": 33,
     "metadata": {},
     "output_type": "execute_result"
    }
   ],
   "source": [
    "df[amounts].sum()"
   ]
  },
  {
   "cell_type": "code",
   "execution_count": 34,
   "id": "60a66590-eebf-4de9-b7ba-e4a1e0a3bee2",
   "metadata": {},
   "outputs": [
    {
     "data": {
      "text/plain": [
       "Response\n",
       "0    1906\n",
       "1     334\n",
       "Name: count, dtype: int64"
      ]
     },
     "execution_count": 34,
     "metadata": {},
     "output_type": "execute_result"
    }
   ],
   "source": [
    "df.Response.value_counts()"
   ]
  },
  {
   "cell_type": "code",
   "execution_count": 35,
   "id": "b3bd4737-3f9d-43f6-937b-ed48c6062ff8",
   "metadata": {},
   "outputs": [
    {
     "data": {
      "text/plain": [
       "['Year_Birth',\n",
       " 'Education',\n",
       " 'Marital_Status',\n",
       " 'Income',\n",
       " 'Kidhome',\n",
       " 'Teenhome',\n",
       " 'Dt_Customer',\n",
       " 'Recency',\n",
       " 'MntWines',\n",
       " 'MntFruits',\n",
       " 'MntMeatProducts',\n",
       " 'MntFishProducts',\n",
       " 'MntSweetProducts',\n",
       " 'MntGoldProds',\n",
       " 'NumDealsPurchases',\n",
       " 'NumWebPurchases',\n",
       " 'NumCatalogPurchases',\n",
       " 'NumStorePurchases',\n",
       " 'NumWebVisitsMonth',\n",
       " 'AcceptedCmp3',\n",
       " 'AcceptedCmp4',\n",
       " 'AcceptedCmp5',\n",
       " 'AcceptedCmp1',\n",
       " 'AcceptedCmp2',\n",
       " 'Complain',\n",
       " 'Z_CostContact',\n",
       " 'Z_Revenue',\n",
       " 'Response',\n",
       " 'Age',\n",
       " 'join_year',\n",
       " 'number_joined_years']"
      ]
     },
     "execution_count": 35,
     "metadata": {},
     "output_type": "execute_result"
    }
   ],
   "source": [
    "df.columns.tolist()"
   ]
  },
  {
   "cell_type": "code",
   "execution_count": 36,
   "id": "10fe7995-397b-4695-a672-5f5c9f287f59",
   "metadata": {},
   "outputs": [
    {
     "data": {
      "text/plain": [
       "AcceptedCmp3    163\n",
       "AcceptedCmp4    167\n",
       "AcceptedCmp5    163\n",
       "AcceptedCmp1    144\n",
       "AcceptedCmp2     30\n",
       "dtype: int64"
      ]
     },
     "execution_count": 36,
     "metadata": {},
     "output_type": "execute_result"
    }
   ],
   "source": [
    "campings = df.columns.tolist()[19:24]\n",
    "df[campings].sum()"
   ]
  },
  {
   "cell_type": "code",
   "execution_count": 37,
   "id": "f389b2e8-839b-4330-8c5d-5cecf1fe3ab2",
   "metadata": {},
   "outputs": [
    {
     "data": {
      "text/plain": [
       "AcceptedCmp3\n",
       "0    2077\n",
       "1     163\n",
       "Name: count, dtype: int64"
      ]
     },
     "execution_count": 37,
     "metadata": {},
     "output_type": "execute_result"
    }
   ],
   "source": [
    "df[\"AcceptedCmp3\"].value_counts()"
   ]
  },
  {
   "cell_type": "code",
   "execution_count": 38,
   "id": "937b8c50-f032-4d27-8473-3e9032dff7f3",
   "metadata": {},
   "outputs": [
    {
     "data": {
      "text/plain": [
       "['NumDealsPurchases',\n",
       " 'NumWebPurchases',\n",
       " 'NumCatalogPurchases',\n",
       " 'NumStorePurchases',\n",
       " 'NumWebVisitsMonth']"
      ]
     },
     "execution_count": 38,
     "metadata": {},
     "output_type": "execute_result"
    }
   ],
   "source": [
    "df.columns.tolist()[14:19] "
   ]
  },
  {
   "cell_type": "code",
   "execution_count": 39,
   "id": "486f0a27-b162-4fa9-bf1e-3030b4d8e3a1",
   "metadata": {},
   "outputs": [
    {
     "data": {
      "text/plain": [
       "NumDealsPurchases\n",
       "1     970\n",
       "2     497\n",
       "3     297\n",
       "4     189\n",
       "5      94\n",
       "6      61\n",
       "0      46\n",
       "7      40\n",
       "8      14\n",
       "9       8\n",
       "15      7\n",
       "10      5\n",
       "11      5\n",
       "12      4\n",
       "13      3\n",
       "Name: count, dtype: int64"
      ]
     },
     "execution_count": 39,
     "metadata": {},
     "output_type": "execute_result"
    }
   ],
   "source": [
    "df['NumDealsPurchases'].value_counts()"
   ]
  },
  {
   "cell_type": "code",
   "execution_count": 40,
   "id": "a65db339-b0c4-4ba6-a2a9-9b966160ba77",
   "metadata": {},
   "outputs": [
    {
     "data": {
      "text/plain": [
       "<Axes: xlabel='NumDealsPurchases'>"
      ]
     },
     "execution_count": 40,
     "metadata": {},
     "output_type": "execute_result"
    },
    {
     "data": {
      "image/png": "[encoded data removed]",
      "text/plain": [
       "<Figure size 640x480 with 1 Axes>"
      ]
     },
     "metadata": {},
     "output_type": "display_data"
    }
   ],
   "source": [
    "df['NumDealsPurchases'].value_counts().plot(kind = \"bar\")"
   ]
  },
  {
   "cell_type": "code",
   "execution_count": 41,
   "id": "70053b85-2c3a-4e7a-8dcf-1f24f633005e",
   "metadata": {},
   "outputs": [
    {
     "data": {
      "text/html": [
       "<div>\n",
       "<style scoped>\n",
       "    .dataframe tbody tr th:only-of-type {\n",
       "        vertical-align: middle;\n",
       "    }\n",
       "\n",
       "    .dataframe tbody tr th {\n",
       "        vertical-align: top;\n",
       "    }\n",
       "\n",
       "    .dataframe thead th {\n",
       "        text-align: right;\n",
       "    }\n",
       "</style>\n",
       "<table border=\"1\" class=\"dataframe\">\n",
       "  <thead>\n",
       "    <tr style=\"text-align: right;\">\n",
       "      <th></th>\n",
       "      <th>NumWebPurchases</th>\n",
       "      <th>NumCatalogPurchases</th>\n",
       "      <th>NumStorePurchases</th>\n",
       "    </tr>\n",
       "  </thead>\n",
       "  <tbody>\n",
       "    <tr>\n",
       "      <th>0</th>\n",
       "      <td>8</td>\n",
       "      <td>10</td>\n",
       "      <td>4</td>\n",
       "    </tr>\n",
       "    <tr>\n",
       "      <th>1</th>\n",
       "      <td>1</td>\n",
       "      <td>1</td>\n",
       "      <td>2</td>\n",
       "    </tr>\n",
       "    <tr>\n",
       "      <th>2</th>\n",
       "      <td>8</td>\n",
       "      <td>2</td>\n",
       "      <td>10</td>\n",
       "    </tr>\n",
       "    <tr>\n",
       "      <th>3</th>\n",
       "      <td>2</td>\n",
       "      <td>0</td>\n",
       "      <td>4</td>\n",
       "    </tr>\n",
       "    <tr>\n",
       "      <th>4</th>\n",
       "      <td>5</td>\n",
       "      <td>3</td>\n",
       "      <td>6</td>\n",
       "    </tr>\n",
       "    <tr>\n",
       "      <th>...</th>\n",
       "      <td>...</td>\n",
       "      <td>...</td>\n",
       "      <td>...</td>\n",
       "    </tr>\n",
       "    <tr>\n",
       "      <th>2235</th>\n",
       "      <td>9</td>\n",
       "      <td>3</td>\n",
       "      <td>4</td>\n",
       "    </tr>\n",
       "    <tr>\n",
       "      <th>2236</th>\n",
       "      <td>8</td>\n",
       "      <td>2</td>\n",
       "      <td>5</td>\n",
       "    </tr>\n",
       "    <tr>\n",
       "      <th>2237</th>\n",
       "      <td>2</td>\n",
       "      <td>3</td>\n",
       "      <td>13</td>\n",
       "    </tr>\n",
       "    <tr>\n",
       "      <th>2238</th>\n",
       "      <td>6</td>\n",
       "      <td>5</td>\n",
       "      <td>10</td>\n",
       "    </tr>\n",
       "    <tr>\n",
       "      <th>2239</th>\n",
       "      <td>3</td>\n",
       "      <td>1</td>\n",
       "      <td>4</td>\n",
       "    </tr>\n",
       "  </tbody>\n",
       "</table>\n",
       "<p>2240 rows × 3 columns</p>\n",
       "</div>"
      ],
      "text/plain": [
       "      NumWebPurchases  NumCatalogPurchases  NumStorePurchases\n",
       "0                   8                   10                  4\n",
       "1                   1                    1                  2\n",
       "2                   8                    2                 10\n",
       "3                   2                    0                  4\n",
       "4                   5                    3                  6\n",
       "...               ...                  ...                ...\n",
       "2235                9                    3                  4\n",
       "2236                8                    2                  5\n",
       "2237                2                    3                 13\n",
       "2238                6                    5                 10\n",
       "2239                3                    1                  4\n",
       "\n",
       "[2240 rows x 3 columns]"
      ]
     },
     "execution_count": 41,
     "metadata": {},
     "output_type": "execute_result"
    }
   ],
   "source": [
    "visits = df.columns.tolist()[15:18]\n",
    "df[visits]"
   ]
  },
  {
   "cell_type": "code",
   "execution_count": 42,
   "id": "e95362d4-ced9-449d-9116-5253691c9d97",
   "metadata": {},
   "outputs": [
    {
     "data": {
      "text/plain": [
       "<Axes: >"
      ]
     },
     "execution_count": 42,
     "metadata": {},
     "output_type": "execute_result"
    },
    {
     "data": {
      "image/png": "[encoded data removed]",
      "text/plain": [
       "<Figure size 640x480 with 1 Axes>"
      ]
     },
     "metadata": {},
     "output_type": "display_data"
    }
   ],
   "source": [
    "df[visits].sum().plot(kind = \"bar\")"
   ]
  },
  {
   "cell_type": "code",
   "execution_count": 43,
   "id": "a5e6dbd0-87ef-4a79-96ff-14c50e37346a",
   "metadata": {},
   "outputs": [
    {
     "data": {
      "text/html": [
       "<div>\n",
       "<style scoped>\n",
       "    .dataframe tbody tr th:only-of-type {\n",
       "        vertical-align: middle;\n",
       "    }\n",
       "\n",
       "    .dataframe tbody tr th {\n",
       "        vertical-align: top;\n",
       "    }\n",
       "\n",
       "    .dataframe thead th {\n",
       "        text-align: right;\n",
       "    }\n",
       "</style>\n",
       "<table border=\"1\" class=\"dataframe\">\n",
       "  <thead>\n",
       "    <tr style=\"text-align: right;\">\n",
       "      <th>Income</th>\n",
       "      <th>1730.0</th>\n",
       "      <th>2447.0</th>\n",
       "      <th>3502.0</th>\n",
       "      <th>4023.0</th>\n",
       "      <th>4428.0</th>\n",
       "      <th>4861.0</th>\n",
       "      <th>5305.0</th>\n",
       "      <th>5648.0</th>\n",
       "      <th>6560.0</th>\n",
       "      <th>6835.0</th>\n",
       "      <th>...</th>\n",
       "      <th>105471.0</th>\n",
       "      <th>113734.0</th>\n",
       "      <th>153924.0</th>\n",
       "      <th>156924.0</th>\n",
       "      <th>157146.0</th>\n",
       "      <th>157243.0</th>\n",
       "      <th>157733.0</th>\n",
       "      <th>160803.0</th>\n",
       "      <th>162397.0</th>\n",
       "      <th>666666.0</th>\n",
       "    </tr>\n",
       "    <tr>\n",
       "      <th>Education</th>\n",
       "      <th></th>\n",
       "      <th></th>\n",
       "      <th></th>\n",
       "      <th></th>\n",
       "      <th></th>\n",
       "      <th></th>\n",
       "      <th></th>\n",
       "      <th></th>\n",
       "      <th></th>\n",
       "      <th></th>\n",
       "      <th></th>\n",
       "      <th></th>\n",
       "      <th></th>\n",
       "      <th></th>\n",
       "      <th></th>\n",
       "      <th></th>\n",
       "      <th></th>\n",
       "      <th></th>\n",
       "      <th></th>\n",
       "      <th></th>\n",
       "      <th></th>\n",
       "    </tr>\n",
       "  </thead>\n",
       "  <tbody>\n",
       "    <tr>\n",
       "      <th>2n Cycle</th>\n",
       "      <td>0</td>\n",
       "      <td>0</td>\n",
       "      <td>0</td>\n",
       "      <td>0</td>\n",
       "      <td>0</td>\n",
       "      <td>0</td>\n",
       "      <td>0</td>\n",
       "      <td>0</td>\n",
       "      <td>0</td>\n",
       "      <td>0</td>\n",
       "      <td>...</td>\n",
       "      <td>0</td>\n",
       "      <td>0</td>\n",
       "      <td>0</td>\n",
       "      <td>0</td>\n",
       "      <td>0</td>\n",
       "      <td>0</td>\n",
       "      <td>0</td>\n",
       "      <td>0</td>\n",
       "      <td>0</td>\n",
       "      <td>0</td>\n",
       "    </tr>\n",
       "    <tr>\n",
       "      <th>Basic</th>\n",
       "      <td>0</td>\n",
       "      <td>0</td>\n",
       "      <td>0</td>\n",
       "      <td>0</td>\n",
       "      <td>0</td>\n",
       "      <td>0</td>\n",
       "      <td>0</td>\n",
       "      <td>0</td>\n",
       "      <td>0</td>\n",
       "      <td>0</td>\n",
       "      <td>...</td>\n",
       "      <td>0</td>\n",
       "      <td>0</td>\n",
       "      <td>0</td>\n",
       "      <td>0</td>\n",
       "      <td>0</td>\n",
       "      <td>0</td>\n",
       "      <td>0</td>\n",
       "      <td>0</td>\n",
       "      <td>0</td>\n",
       "      <td>0</td>\n",
       "    </tr>\n",
       "    <tr>\n",
       "      <th>Graduation</th>\n",
       "      <td>1</td>\n",
       "      <td>1</td>\n",
       "      <td>1</td>\n",
       "      <td>0</td>\n",
       "      <td>1</td>\n",
       "      <td>1</td>\n",
       "      <td>1</td>\n",
       "      <td>0</td>\n",
       "      <td>0</td>\n",
       "      <td>0</td>\n",
       "      <td>...</td>\n",
       "      <td>1</td>\n",
       "      <td>0</td>\n",
       "      <td>1</td>\n",
       "      <td>0</td>\n",
       "      <td>1</td>\n",
       "      <td>0</td>\n",
       "      <td>0</td>\n",
       "      <td>0</td>\n",
       "      <td>0</td>\n",
       "      <td>1</td>\n",
       "    </tr>\n",
       "    <tr>\n",
       "      <th>Master</th>\n",
       "      <td>0</td>\n",
       "      <td>0</td>\n",
       "      <td>0</td>\n",
       "      <td>0</td>\n",
       "      <td>0</td>\n",
       "      <td>0</td>\n",
       "      <td>0</td>\n",
       "      <td>0</td>\n",
       "      <td>1</td>\n",
       "      <td>0</td>\n",
       "      <td>...</td>\n",
       "      <td>0</td>\n",
       "      <td>0</td>\n",
       "      <td>0</td>\n",
       "      <td>0</td>\n",
       "      <td>0</td>\n",
       "      <td>0</td>\n",
       "      <td>1</td>\n",
       "      <td>0</td>\n",
       "      <td>0</td>\n",
       "      <td>0</td>\n",
       "    </tr>\n",
       "    <tr>\n",
       "      <th>PhD</th>\n",
       "      <td>0</td>\n",
       "      <td>0</td>\n",
       "      <td>0</td>\n",
       "      <td>1</td>\n",
       "      <td>0</td>\n",
       "      <td>0</td>\n",
       "      <td>0</td>\n",
       "      <td>1</td>\n",
       "      <td>0</td>\n",
       "      <td>1</td>\n",
       "      <td>...</td>\n",
       "      <td>0</td>\n",
       "      <td>1</td>\n",
       "      <td>0</td>\n",
       "      <td>1</td>\n",
       "      <td>0</td>\n",
       "      <td>1</td>\n",
       "      <td>0</td>\n",
       "      <td>1</td>\n",
       "      <td>1</td>\n",
       "      <td>0</td>\n",
       "    </tr>\n",
       "  </tbody>\n",
       "</table>\n",
       "<p>5 rows × 1984 columns</p>\n",
       "</div>"
      ],
      "text/plain": [
       "Income      1730.0    2447.0    3502.0    4023.0    4428.0    4861.0    \\\n",
       "Education                                                                \n",
       "2n Cycle           0         0         0         0         0         0   \n",
       "Basic              0         0         0         0         0         0   \n",
       "Graduation         1         1         1         0         1         1   \n",
       "Master             0         0         0         0         0         0   \n",
       "PhD                0         0         0         1         0         0   \n",
       "\n",
       "Income      5305.0    5648.0    6560.0    6835.0    ...  105471.0  113734.0  \\\n",
       "Education                                           ...                       \n",
       "2n Cycle           0         0         0         0  ...         0         0   \n",
       "Basic              0         0         0         0  ...         0         0   \n",
       "Graduation         1         0         0         0  ...         1         0   \n",
       "Master             0         0         1         0  ...         0         0   \n",
       "PhD                0         1         0         1  ...         0         1   \n",
       "\n",
       "Income      153924.0  156924.0  157146.0  157243.0  157733.0  160803.0  \\\n",
       "Education                                                                \n",
       "2n Cycle           0         0         0         0         0         0   \n",
       "Basic              0         0         0         0         0         0   \n",
       "Graduation         1         0         1         0         0         0   \n",
       "Master             0         0         0         0         1         0   \n",
       "PhD                0         1         0         1         0         1   \n",
       "\n",
       "Income      162397.0  666666.0  \n",
       "Education                       \n",
       "2n Cycle           0         0  \n",
       "Basic              0         0  \n",
       "Graduation         0         1  \n",
       "Master             0         0  \n",
       "PhD                1         0  \n",
       "\n",
       "[5 rows x 1984 columns]"
      ]
     },
     "execution_count": 43,
     "metadata": {},
     "output_type": "execute_result"
    }
   ],
   "source": [
    "pd.crosstab(df.Education, df.Income)"
   ]
  },
  {
   "cell_type": "code",
   "execution_count": 44,
   "id": "c4a1d7e4-bd99-4b1a-a827-bf6c7a51c322",
   "metadata": {},
   "outputs": [
    {
     "data": {
      "text/plain": [
       "Education\n",
       "2n Cycle      47641.62\n",
       "Basic         20306.26\n",
       "Graduation    52708.81\n",
       "Master        52923.62\n",
       "PhD           56141.65\n",
       "Name: Income, dtype: float64"
      ]
     },
     "execution_count": 44,
     "metadata": {},
     "output_type": "execute_result"
    }
   ],
   "source": [
    "edu_in = df.groupby('Education')['Income'].mean()\n",
    "round(edu_in, 2)"
   ]
  },
  {
   "cell_type": "code",
   "execution_count": 45,
   "id": "b477a921-9cb4-44d3-be1c-06ce8cdd9a3c",
   "metadata": {},
   "outputs": [
    {
     "data": {
      "text/plain": [
       "Marital_Status\n",
       "Absurd      72365.50\n",
       "Alone       43789.00\n",
       "Divorced    52834.23\n",
       "Married     51729.15\n",
       "Single      51014.68\n",
       "Together    53232.18\n",
       "Widow       56506.49\n",
       "YOLO        48432.00\n",
       "Name: Income, dtype: float64"
      ]
     },
     "execution_count": 45,
     "metadata": {},
     "output_type": "execute_result"
    }
   ],
   "source": [
    "mar_in = df.groupby(\"Marital_Status\")[\"Income\"].mean()\n",
    "round(mar_in, 2)"
   ]
  },
  {
   "cell_type": "code",
   "execution_count": 46,
   "id": "2ae11f4e-61b7-44e2-af21-d7d972348faf",
   "metadata": {},
   "outputs": [
    {
     "data": {
      "text/plain": [
       "NumWebPurchases        4240\n",
       "NumCatalogPurchases    3464\n",
       "NumStorePurchases      6528\n",
       "dtype: int64"
      ]
     },
     "execution_count": 46,
     "metadata": {},
     "output_type": "execute_result"
    }
   ],
   "source": [
    "# customers with no teens at home\n",
    "df[visits][df.Teenhome == 0].sum()"
   ]
  },
  {
   "cell_type": "code",
   "execution_count": 47,
   "id": "1c5bdc95-0b65-44a0-b6ca-122d024929b0",
   "metadata": {},
   "outputs": [
    {
     "data": {
      "text/plain": [
       "NumWebPurchases        4661\n",
       "NumCatalogPurchases    2374\n",
       "NumStorePurchases      6117\n",
       "dtype: int64"
      ]
     },
     "execution_count": 47,
     "metadata": {},
     "output_type": "execute_result"
    }
   ],
   "source": [
    "# customers with single teen at home\n",
    "df[visits][df.Teenhome == 1].sum()"
   ]
  },
  {
   "cell_type": "code",
   "execution_count": 48,
   "id": "a2a99f81-93ca-4150-8bc7-60faf3329c00",
   "metadata": {},
   "outputs": [
    {
     "data": {
      "text/plain": [
       "NumWebPurchases        249\n",
       "NumCatalogPurchases    125\n",
       "NumStorePurchases      325\n",
       "dtype: int64"
      ]
     },
     "execution_count": 48,
     "metadata": {},
     "output_type": "execute_result"
    }
   ],
   "source": [
    "# customers with 2 teens at home\n",
    "df[visits][df.Teenhome == 2].sum()"
   ]
  },
  {
   "cell_type": "code",
   "execution_count": 49,
   "id": "264c7291-c921-4208-8dc4-db8f6b997eff",
   "metadata": {},
   "outputs": [
    {
     "name": "stdout",
     "output_type": "stream",
     "text": [
      "Total visits with 0 teens: \n",
      " NumWebPurchases        4240\n",
      "NumCatalogPurchases    3464\n",
      "NumStorePurchases      6528\n",
      "dtype: int64\n",
      "Total visits with 1 teens: \n",
      " NumWebPurchases        4661\n",
      "NumCatalogPurchases    2374\n",
      "NumStorePurchases      6117\n",
      "dtype: int64\n",
      "Total visits with 2 teens: \n",
      " NumWebPurchases        249\n",
      "NumCatalogPurchases    125\n",
      "NumStorePurchases      325\n",
      "dtype: int64\n"
     ]
    }
   ],
   "source": [
    "max_teens = df['Teenhome'].max()\n",
    "results = []\n",
    "for i in range(max_teens + 1):\n",
    "    total_visits = df[visits][df['Teenhome'] == i].sum()\n",
    "    results.append(total_visits)\n",
    "\n",
    "for i, total_visits in enumerate(results):\n",
    "    print(f\"Total visits with {i} teens: \\n {total_visits}\")\n",
    "\n"
   ]
  },
  {
   "cell_type": "code",
   "execution_count": 50,
   "id": "7f91fae4-1377-4f10-b56e-befe87161270",
   "metadata": {},
   "outputs": [
    {
     "data": {
      "text/plain": [
       "Marital_Status\n",
       "Absurd        1678\n",
       "Alone          227\n",
       "Divorced     66867\n",
       "Married     253769\n",
       "Single      153736\n",
       "Together    176254\n",
       "Widow        28635\n",
       "YOLO           214\n",
       "Name: total_amount, dtype: int64"
      ]
     },
     "execution_count": 50,
     "metadata": {},
     "output_type": "execute_result"
    }
   ],
   "source": [
    "df[\"total_amount\"] = df[amounts].sum(axis = 1 )\n",
    "df.groupby(\"Marital_Status\")[\"total_amount\"].sum()"
   ]
  },
  {
   "cell_type": "code",
   "execution_count": 51,
   "id": "a7be2c24-3525-4b14-b3fa-1411e429e073",
   "metadata": {},
   "outputs": [
    {
     "data": {
      "text/plain": [
       "<Axes: xlabel='Marital_Status'>"
      ]
     },
     "execution_count": 51,
     "metadata": {},
     "output_type": "execute_result"
    },
    {
     "data": {
      "image/png": "[encoded data removed]",
      "text/plain": [
       "<Figure size 640x480 with 1 Axes>"
      ]
     },
     "metadata": {},
     "output_type": "display_data"
    }
   ],
   "source": [
    "df.groupby(\"Marital_Status\")[\"total_amount\"].sum().plot(kind='bar')"
   ]
  },
  {
   "cell_type": "markdown",
   "id": "3b890a13-49a2-4d52-96e1-8137cbd560a2",
   "metadata": {},
   "source": [
    "## Hypothesis Testing"
   ]
  },
  {
   "cell_type": "code",
   "execution_count": 52,
   "id": "d87ba86e-4c56-4b01-9fc1-ed89d46b14ad",
   "metadata": {},
   "outputs": [],
   "source": [
    "sampled_df = df.sample(n=100, random_state=100)"
   ]
  },
  {
   "cell_type": "markdown",
   "id": "ef7c2b8d-3667-4867-96e6-32c1bb6483bf",
   "metadata": {},
   "source": [
    "T-test is used when we want to test the relationship between a numeric variable and a categorical variable.There are three main types of t-test.\n",
    "\n",
    "1. one sample t-test: test the mean of one group against a constant value\n",
    "\n",
    "2. two sample t-test: test the difference of means between two groups\n",
    "\n",
    "3. paired sample t-test: test the difference of means between two measurements of the same subject"
   ]
  },
  {
   "cell_type": "code",
   "execution_count": 53,
   "id": "e01efb91-c7e4-45be-93ee-0d9f014e60e7",
   "metadata": {},
   "outputs": [],
   "source": [
    "# To test whether the \"Recency\" (number of days since customer’s last purchase - numeric value) \n",
    "# contributes to the prediction of \"Response\" (whether the customer accepted the offer in the last campaign - categorical value), \n",
    "# we can use a two-sample t-test.\n",
    "\n",
    "#The first sample would be the “Recency” of customers who accepted the offer:\n",
    "recency_P = df[df['Response']==1]['Recency']"
   ]
  },
  {
   "cell_type": "code",
   "execution_count": 54,
   "id": "ce2ac699-1437-4004-a013-f143e608002e",
   "metadata": {},
   "outputs": [],
   "source": [
    "#The second sample would be the “Recency” of  customers who rejected the offer: \n",
    "recency_N = sampled_df[sampled_df['Response']==0]['Recency']"
   ]
  },
  {
   "cell_type": "code",
   "execution_count": 55,
   "id": "6cb40108-1d66-497c-a2d7-530e7fd9d909",
   "metadata": {},
   "outputs": [
    {
     "data": {
      "image/png": "[encoded data removed]",
      "text/plain": [
       "<Figure size 640x480 with 1 Axes>"
      ]
     },
     "metadata": {},
     "output_type": "display_data"
    }
   ],
   "source": [
    "plt.hist(recency_N, bins=20, alpha=0.5, label='Negative Response')\n",
    "plt.hist(recency_P, bins=20, alpha=0.5, label='Positive Response')\n",
    "\n",
    "plt.xlabel('Recency')\n",
    "plt.ylabel('Frequency')\n",
    "plt.title('Recency Distribution for Response Groups')\n",
    "plt.legend()\n",
    "plt.show()\n"
   ]
  },
  {
   "cell_type": "markdown",
   "id": "673b0c98-60d9-4de6-9d92-9bdff5356b08",
   "metadata": {},
   "source": [
    "It appears that positive response have lower Recency compared to negative response. To quantify the difference and make it more scientific, let’s follow the steps in hypothesis testing and carry out a t-test.\n",
    "\n"
   ]
  },
  {
   "cell_type": "markdown",
   "id": "5e8c6ecc-aaf4-4b7d-a8ff-4871684d126f",
   "metadata": {},
   "source": [
    "Step1. define null and alternative hypothesis\n",
    "\n",
    "null: there is no difference in Recency between the customers who accepted the offer in the last campaign and who did not accept the offer\n",
    "\n",
    "alternative: customers who accepted the offer has lower Recency compared to customers who did not accept the offer"
   ]
  },
  {
   "cell_type": "markdown",
   "id": "c7128069-e0cf-46b1-bc4c-6deb53dfe45e",
   "metadata": {},
   "source": [
    "Step 2. choose the appropriate test\n",
    "\n",
    "To test the difference between two independent samples, two-sample t-test is the most appropriate statistical test which follows student t-distribution. The shape of student-t distribution is determined by the degree of freedom, calculated as the sum of two sample size minus 2. \n",
    "\n",
    "In python, simply import the library scipy.stats and create the t-distribution as below."
   ]
  },
  {
   "cell_type": "code",
   "execution_count": 56,
   "id": "a823a562-4909-4288-848d-f3216f5f8b28",
   "metadata": {},
   "outputs": [],
   "source": [
    "from scipy.stats import t\n",
    "rv = t(df=100-2)"
   ]
  },
  {
   "cell_type": "markdown",
   "id": "2d6c29c8-4ea1-4091-a47c-cfdf8c70173d",
   "metadata": {},
   "source": [
    "Step 3. calculate the p-value"
   ]
  },
  {
   "cell_type": "code",
   "execution_count": 57,
   "id": "bf6e877e-23a3-4e3d-9587-cc0a1c58dfcd",
   "metadata": {},
   "outputs": [
    {
     "name": "stdout",
     "output_type": "stream",
     "text": [
      "t-statistics: -3.8984324984712764 \n",
      "p-value: 0.00011279077061530209\n"
     ]
    }
   ],
   "source": [
    "from scipy.stats import ttest_ind\n",
    "\n",
    "t_stat, p_value = ttest_ind(recency_P, recency_N)\n",
    "print('t-statistics:', t_stat, '\\np-value:', p_value)"
   ]
  },
  {
   "cell_type": "markdown",
   "id": "06e29a1f-5830-43f8-a7f3-1b4bbc250c9a",
   "metadata": {},
   "source": [
    "Step 4. determine the statistical significance\n",
    "The commonly used significance level threshold is 0.05. Since p-value here (0.024) is smaller than 0.05, we can say that it is statistically significant based on the collected sample. A lower Recency of customer who accepted the offer is likely not occur by chance. This indicates the feature “Response” may be a strong predictor of the target variable “Recency”. And if we would perform feature selection for a model predicting the \"Recency\" value, \"Response\" is likely to have high importance. "
   ]
  },
  {
   "cell_type": "markdown",
   "id": "15c99c98-ab4d-4481-9317-d7efd38316ab",
   "metadata": {},
   "source": [
    "##### We reject the null hypothesis because the p-value is smaller than the chosen significance level (typically 0.05), indicating strong evidence against the null hypothesis."
   ]
  },
  {
   "cell_type": "markdown",
   "id": "b1f83e68-3fbf-472f-92fe-812176c90f97",
   "metadata": {},
   "source": [
    "ANOVA Test\n",
    "Now that we know t-test is used to compare the mean of one or two sample groups. What if we want to test more than two samples?  Use ANOVA test. \n",
    "\n",
    "ANOVA examines the difference among groups by calculating the ratio of variance across different groups vs variance within a group. Larger ratio indicates that the difference across groups is a result of the group difference rather than just random chance.\n",
    "\n",
    "As an example, I use the feature “Kidhome” for the prediction of “NumWebPurchases”. There are three values of “Kidhome” - 0, 1, 2 which naturally forms three groups."
   ]
  },
  {
   "cell_type": "code",
   "execution_count": 58,
   "id": "ce50fe25-f2d4-412a-9dec-d6f3941ee12d",
   "metadata": {},
   "outputs": [],
   "source": [
    "kidhome_0 = sampled_df[sampled_df['Kidhome']==0]['NumWebPurchases']\n",
    "kidhome_1 = sampled_df[sampled_df['Kidhome']==1]['NumWebPurchases']\n",
    "kidhome_2 = sampled_df[sampled_df['Kidhome']==2]['NumWebPurchases']"
   ]
  },
  {
   "cell_type": "code",
   "execution_count": 59,
   "id": "7217f7cb-d0e5-485d-bbf9-759b60a20403",
   "metadata": {},
   "outputs": [
    {
     "data": {
      "image/png": "[encoded data removed]",
      "text/plain": [
       "<Figure size 640x480 with 1 Axes>"
      ]
     },
     "metadata": {},
     "output_type": "display_data"
    }
   ],
   "source": [
    "data = [kidhome_0, kidhome_1, kidhome_2]\n",
    "\n",
    "plt.boxplot(data, labels=['kidhome_0', 'kidhome_1', 'kidhome_2'])\n",
    "plt.xlabel('kidhome')\n",
    "plt.ylabel('NumWebPurchases')\n",
    "plt.title('NumWebPurchases Distribution by Kidhome')\n",
    "\n",
    "plt.show()"
   ]
  },
  {
   "cell_type": "markdown",
   "id": "46a8d5f2-e3e9-4655-8a84-024545160df3",
   "metadata": {},
   "source": [
    "Step1. define hypothesis: \n",
    "\n",
    "null hypothesis: there is no difference among three groups\n",
    "\n",
    "alternative hypothesis: there is difference between at least two groups"
   ]
  },
  {
   "cell_type": "markdown",
   "id": "1bd30ef1-82e6-46d8-b86e-85a1ebcd1327",
   "metadata": {},
   "source": [
    "Step2. choose the appropriate test: ANOVA test for examining the relationships of numeric values against a categorical value with more than two groups. Similar to t-test, the null hypothesis of ANOVA test also follows a distribution defined by degrees of freedom. The degrees of freedom in ANOVA is determined by number of total samples (n) and the number of groups (k)."
   ]
  },
  {
   "cell_type": "code",
   "execution_count": 60,
   "id": "06b89e59-128e-4ebc-8035-7ae2c3f67e95",
   "metadata": {},
   "outputs": [],
   "source": [
    "from scipy.stats import f\n",
    "from scipy import stats\n",
    "dfn = 3-1\n",
    "dfd = 100-3\n",
    "rv = f(dfn, dfd)"
   ]
  },
  {
   "cell_type": "markdown",
   "id": "53a2929d-3314-42f6-904d-fc0b784f0b16",
   "metadata": {},
   "source": [
    "Step3. calculate the p-value: To calculate the p-value of the f-statistics, we use the right tail cumulative area of the f-distribution, which is 1 - rv.cdf(x)."
   ]
  },
  {
   "cell_type": "code",
   "execution_count": 61,
   "id": "2bca17df-e0b1-4111-a0a9-150a5b3b44af",
   "metadata": {},
   "outputs": [],
   "source": [
    "x = np.linspace(rv.ppf(0.0001), rv.ppf(0.9999), 100000)\n",
    "y = rv.pdf(x)\n",
    "pvalue = 1 - rv.cdf(x)"
   ]
  },
  {
   "cell_type": "code",
   "execution_count": 62,
   "id": "d80d6878-643f-42d5-98e4-724fefccbd3f",
   "metadata": {},
   "outputs": [
    {
     "name": "stdout",
     "output_type": "stream",
     "text": [
      "F-statistic: 8.496139598178\n",
      "p-value: 0.00039808004666969506\n"
     ]
    }
   ],
   "source": [
    "f_stat, pvalue = stats.f_oneway(kidhome_0, kidhome_1, kidhome_2)\n",
    "\n",
    "print(\"F-statistic:\", f_stat)\n",
    "print(\"p-value:\", pvalue)"
   ]
  },
  {
   "cell_type": "markdown",
   "id": "6cda4a91-6e76-4546-927f-19c66db20936",
   "metadata": {},
   "source": [
    "Step 4. determine the statistical significance: Compare the p-value against the significance level 0.05, we can infer that there is strong evidence against the null hypothesis and very likely that there is difference in “NumWebPurchases” between at least two groups."
   ]
  },
  {
   "cell_type": "markdown",
   "id": "d747144d-576c-4340-8d2c-234d9a0dfc24",
   "metadata": {},
   "source": [
    "we reject the null hypothesis.\n",
    "\n",
    "Therefore, we conclude that there are statistically significant differences in NumWebPurchases among the Kidhome groups."
   ]
  },
  {
   "cell_type": "markdown",
   "id": "07343039-b477-43b8-bbe0-2e9db119b276",
   "metadata": {},
   "source": [
    "Chi-Squared test is for testing the relationship between two categorical variables. The underlying principle is that if two categorical variables are independent, then one categorical variable should have similar composition when the other categorical variable change. Let’s look at the example of whether “Education” and “Response” are independent."
   ]
  },
  {
   "cell_type": "code",
   "execution_count": 63,
   "id": "07ebf5e3-1430-4da4-bc6c-085606fbb38d",
   "metadata": {},
   "outputs": [],
   "source": [
    "ed_contingency = pd.crosstab(sampled_df['Education'], sampled_df['Response'])"
   ]
  },
  {
   "cell_type": "code",
   "execution_count": 64,
   "id": "27a0c86a-e8f6-432c-923e-8834f0b031f8",
   "metadata": {},
   "outputs": [
    {
     "data": {
      "text/html": [
       "<div>\n",
       "<style scoped>\n",
       "    .dataframe tbody tr th:only-of-type {\n",
       "        vertical-align: middle;\n",
       "    }\n",
       "\n",
       "    .dataframe tbody tr th {\n",
       "        vertical-align: top;\n",
       "    }\n",
       "\n",
       "    .dataframe thead th {\n",
       "        text-align: right;\n",
       "    }\n",
       "</style>\n",
       "<table border=\"1\" class=\"dataframe\">\n",
       "  <thead>\n",
       "    <tr style=\"text-align: right;\">\n",
       "      <th>Response</th>\n",
       "      <th>0</th>\n",
       "      <th>1</th>\n",
       "    </tr>\n",
       "    <tr>\n",
       "      <th>Education</th>\n",
       "      <th></th>\n",
       "      <th></th>\n",
       "    </tr>\n",
       "  </thead>\n",
       "  <tbody>\n",
       "    <tr>\n",
       "      <th>2n Cycle</th>\n",
       "      <td>13</td>\n",
       "      <td>3</td>\n",
       "    </tr>\n",
       "    <tr>\n",
       "      <th>Basic</th>\n",
       "      <td>2</td>\n",
       "      <td>0</td>\n",
       "    </tr>\n",
       "    <tr>\n",
       "      <th>Graduation</th>\n",
       "      <td>44</td>\n",
       "      <td>5</td>\n",
       "    </tr>\n",
       "    <tr>\n",
       "      <th>Master</th>\n",
       "      <td>9</td>\n",
       "      <td>4</td>\n",
       "    </tr>\n",
       "    <tr>\n",
       "      <th>PhD</th>\n",
       "      <td>17</td>\n",
       "      <td>3</td>\n",
       "    </tr>\n",
       "  </tbody>\n",
       "</table>\n",
       "</div>"
      ],
      "text/plain": [
       "Response     0  1\n",
       "Education        \n",
       "2n Cycle    13  3\n",
       "Basic        2  0\n",
       "Graduation  44  5\n",
       "Master       9  4\n",
       "PhD         17  3"
      ]
     },
     "execution_count": 64,
     "metadata": {},
     "output_type": "execute_result"
    }
   ],
   "source": [
    "ed_contingency.sort_index()"
   ]
  },
  {
   "cell_type": "code",
   "execution_count": 65,
   "id": "31f6c5a8-bc21-459d-9f85-e2f0b73240dc",
   "metadata": {},
   "outputs": [
    {
     "data": {
      "image/png": "[encoded data removed]",
      "text/plain": [
       "<Figure size 640x480 with 1 Axes>"
      ]
     },
     "metadata": {},
     "output_type": "display_data"
    }
   ],
   "source": [
    "ed_contingency.plot(kind='bar', stacked=True)\n",
    "\n",
    "plt.xlabel('Education')\n",
    "plt.ylabel('Count')\n",
    "plt.title('Response Distribution by Education')\n",
    "plt.xticks(rotation=45)\n",
    "plt.legend()\n",
    "\n",
    "# Show plot\n",
    "plt.show()"
   ]
  },
  {
   "cell_type": "markdown",
   "id": "ecdff219-91f7-4214-8d85-2342bce2045a",
   "metadata": {},
   "source": [
    "If these two variables are completely independent to each other (null hypothesis is true), then the proportion of positive Response and negative Response should be the same across all Education groups. It seems like composition are slightly different, but is it significant enough to say there is dependency - let’s run a Chi-Squared test.\n",
    "\n",
    "1. define hypothesis: \n",
    "\n",
    "null hypothesis: “Education” and “Response” are independent to each other.\n",
    "\n",
    "alternative hypothesis: “Education” and “Response” are dependent to each other.\n",
    "\n",
    "2. choose the appropriate test: Chi-Squared test is chosen and you probably found a pattern here, that Chi-distribution is also determined by the degree of freedom which is (row - 1) x (column - 1)."
   ]
  },
  {
   "cell_type": "code",
   "execution_count": 66,
   "id": "06438801-95ac-4d06-a377-ce81aab01412",
   "metadata": {},
   "outputs": [],
   "source": [
    "from scipy.stats import chi2\n",
    "r = 5\n",
    "c = 2\n",
    "dof = (5-1) * (2-1)\n",
    "rv = chi2(df= dof)"
   ]
  },
  {
   "cell_type": "markdown",
   "id": "2eeaf9fb-7947-4209-988a-fa12dbecd6da",
   "metadata": {},
   "source": [
    "3. calculate the p-value: p value is calculated as the right tail cumulative area: 1 - rv.cdf(x)."
   ]
  },
  {
   "cell_type": "code",
   "execution_count": 67,
   "id": "a6274255-0c4b-4813-b81a-c89c72d28675",
   "metadata": {},
   "outputs": [],
   "source": [
    "x = np.linspace(rv.ppf(0.0001), rv.ppf(0.9999), 100000)\n",
    "y = rv.pdf(x)\n",
    "pvalue = 1 - rv.cdf(x)"
   ]
  },
  {
   "cell_type": "code",
   "execution_count": 68,
   "id": "b3a83f3b-724a-4184-9a36-fa481b13d6e0",
   "metadata": {},
   "outputs": [
    {
     "name": "stdout",
     "output_type": "stream",
     "text": [
      "Chi-square statistic: 3.9488102933481084\n",
      "p-value: 0.4129779495497867\n",
      "Degrees of freedom: 4\n"
     ]
    }
   ],
   "source": [
    "from scipy.stats import chi2_contingency\n",
    "\n",
    "chi2_stat, pvalue, dof, exp = chi2_contingency(ed_contingency)\n",
    "\n",
    "print(\"Chi-square statistic:\", chi2_stat)\n",
    "print(\"p-value:\", pvalue)\n",
    "print(\"Degrees of freedom:\", dof)\n"
   ]
  },
  {
   "cell_type": "markdown",
   "id": "68cdd1a9-5858-47dc-9b02-be1addf3cd52",
   "metadata": {},
   "source": [
    "4. determine the statistical significance: the p-value here is 0.41, suggesting that it is not statistical significant. Therefore, we cannot reject the null hypothesis that these two categorical variables are independent. This further indicates that “Education” may not be a strong predictor of “Response”.\n",
    "\n"
   ]
  },
  {
   "cell_type": "code",
   "execution_count": null,
   "id": "636a38ed-e983-487a-b893-9dd7c43c9cc2",
   "metadata": {},
   "outputs": [],
   "source": []
  }
 ],
 "metadata": {
  "kernelspec": {
   "display_name": "Python 3 (ipykernel)",
   "language": "python",
   "name": "python3"
  },
  "language_info": {
   "codemirror_mode": {
    "name": "ipython",
    "version": 3
   },
   "file_extension": ".py",
   "mimetype": "text/x-python",
   "name": "python",
   "nbconvert_exporter": "python",
   "pygments_lexer": "ipython3",
   "version": "3.11.7"
  }
 },
 "nbformat": 4,
 "nbformat_minor": 5
}
